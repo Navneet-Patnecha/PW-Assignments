{
 "cells": [
  {
   "cell_type": "markdown",
   "id": "87d6065c",
   "metadata": {},
   "source": [
    "##### 1. Write a Python program to reverse a string without using any built-in string reversal functions.\n",
    "\n"
   ]
  },
  {
   "cell_type": "code",
   "execution_count": 1,
   "id": "62e431f8",
   "metadata": {},
   "outputs": [
    {
     "data": {
      "text/plain": [
       "'reenigne ecneics atad a ma I'"
      ]
     },
     "execution_count": 1,
     "metadata": {},
     "output_type": "execute_result"
    }
   ],
   "source": [
    "my_string = 'I am a data science engineer'\n",
    "my_string[::-1]"
   ]
  },
  {
   "cell_type": "markdown",
   "id": "90fb0d90",
   "metadata": {},
   "source": [
    "##### 2. Implement a function to check if a given string is a palindrome.\n"
   ]
  },
  {
   "cell_type": "code",
   "execution_count": 2,
   "id": "489c6a34",
   "metadata": {},
   "outputs": [
    {
     "name": "stdout",
     "output_type": "stream",
     "text": [
      "True\n"
     ]
    }
   ],
   "source": [
    "def palindrom(my_string):\n",
    "    if(my_string == my_string[::-1]):\n",
    "        return True\n",
    "    else:\n",
    "        return False\n",
    "\n",
    "    \n",
    "check_string = 'tenet'\n",
    "answer = palindrom(check_string)\n",
    "print(answer)\n"
   ]
  },
  {
   "cell_type": "markdown",
   "id": "6f516265",
   "metadata": {},
   "source": [
    "##### 3. Write a program to find the largest element in a given list.\n"
   ]
  },
  {
   "cell_type": "code",
   "execution_count": 3,
   "id": "351bda41",
   "metadata": {},
   "outputs": [
    {
     "name": "stdout",
     "output_type": "stream",
     "text": [
      "455\n"
     ]
    }
   ],
   "source": [
    "my_list = [2,33,4,5,44,5,6,77,56,455,344]\n",
    "print(max(my_list))"
   ]
  },
  {
   "cell_type": "markdown",
   "id": "4e846124",
   "metadata": {},
   "source": [
    "\n",
    "##### 4. Implement a function to count the occurrence of each element in a list.\n"
   ]
  },
  {
   "cell_type": "code",
   "execution_count": 4,
   "id": "1f22b348",
   "metadata": {},
   "outputs": [
    {
     "name": "stdout",
     "output_type": "stream",
     "text": [
      "Occurrences: {1: 3, 2: 3, 3: 2, 4: 1, 5: 2}\n"
     ]
    }
   ],
   "source": [
    "def count_occurrences(test_list):\n",
    "    my_dict = {}\n",
    "    for element in test_list:\n",
    "        if element in my_dict:\n",
    "            my_dict[element] += 1\n",
    "        else:\n",
    "            my_dict[element] = 1\n",
    "    return my_dict\n",
    "\n",
    "# Example usage:\n",
    "numbers = [1, 2, 3, 2, 1, 2, 4, 5, 3, 5, 1]\n",
    "occurrences = count_occurrences(numbers)\n",
    "print(\"Occurrences:\", occurrences)\n"
   ]
  },
  {
   "cell_type": "markdown",
   "id": "173e23f3",
   "metadata": {},
   "source": [
    "##### 5. Write a Python program to find the second largest number in a list.\n"
   ]
  },
  {
   "cell_type": "code",
   "execution_count": 5,
   "id": "db0ff07c",
   "metadata": {},
   "outputs": [
    {
     "name": "stdout",
     "output_type": "stream",
     "text": [
      "65\n"
     ]
    }
   ],
   "source": [
    "my_list =[2,3,1,5,6,3,2,11,24,5,65,67]\n",
    "my_list.sort()\n",
    "print(my_list[-2])"
   ]
  },
  {
   "cell_type": "markdown",
   "id": "22ed0b29",
   "metadata": {},
   "source": [
    "##### 6. Implement a function to remove duplicate elements from a list."
   ]
  },
  {
   "cell_type": "code",
   "execution_count": 6,
   "id": "22ab1a47",
   "metadata": {},
   "outputs": [
    {
     "name": "stdout",
     "output_type": "stream",
     "text": [
      "{2, 3, 4, 45, 23, 344}\n"
     ]
    }
   ],
   "source": [
    "def remove_duplicate(my_list):\n",
    "    return set(my_list)\n",
    "\n",
    "\n",
    "my_list = [2,3,2,344,45,3,2,4,23]\n",
    "updated_list = remove_duplicate(my_list)\n",
    "print(updated_list)"
   ]
  },
  {
   "cell_type": "markdown",
   "id": "dba076f9",
   "metadata": {},
   "source": [
    "##### 7 . Write a program to calculate the factorial of a given number.\n"
   ]
  },
  {
   "cell_type": "code",
   "execution_count": 7,
   "id": "9d69b3bc",
   "metadata": {},
   "outputs": [
    {
     "name": "stdout",
     "output_type": "stream",
     "text": [
      "720\n"
     ]
    }
   ],
   "source": [
    "def fact(number):\n",
    "    if number == 0 :\n",
    "        return 1\n",
    "    else:\n",
    "        return number*fact(number-1)\n",
    "    \n",
    "number = 6\n",
    "result = fact(number)\n",
    "print(result)"
   ]
  },
  {
   "cell_type": "markdown",
   "id": "f65d480f",
   "metadata": {},
   "source": [
    "##### 8. Implement a function to check if a given number is prime."
   ]
  },
  {
   "cell_type": "code",
   "execution_count": 11,
   "id": "2aad6909",
   "metadata": {},
   "outputs": [
    {
     "name": "stdout",
     "output_type": "stream",
     "text": [
      "congratulations , 7 is prime number\n"
     ]
    }
   ],
   "source": [
    "def check_prime(number):\n",
    "    if number < 2 :\n",
    "        print('neither prime , nor composite')\n",
    "    else:\n",
    "        for i in range(2,int(number ** 0.5)+1):\n",
    "            if number % i == 0:\n",
    "                print(\" this is a composite number\")\n",
    "            else:\n",
    "                print(f\"congratulations , {number} is prime number\")\n",
    "                \n",
    "check_prime(7)"
   ]
  },
  {
   "cell_type": "markdown",
   "id": "bf304f95",
   "metadata": {},
   "source": [
    "##### 9 Write a Python program to sort a list of integers in ascending order."
   ]
  },
  {
   "cell_type": "code",
   "execution_count": 15,
   "id": "b3c230f1",
   "metadata": {},
   "outputs": [
    {
     "name": "stdout",
     "output_type": "stream",
     "text": [
      "[2, 2, 3, 32, 34, 56, 234, 243]\n"
     ]
    }
   ],
   "source": [
    "my_list = [2,32,56,2,3,234,34,243]\n",
    "print(sorted(my_list))"
   ]
  },
  {
   "cell_type": "markdown",
   "id": "eada2961",
   "metadata": {},
   "source": [
    "##### 10  Implement a function to find the sum of all numbers in a list."
   ]
  },
  {
   "cell_type": "code",
   "execution_count": 17,
   "id": "da9bcfec",
   "metadata": {},
   "outputs": [
    {
     "name": "stdout",
     "output_type": "stream",
     "text": [
      "996\n"
     ]
    }
   ],
   "source": [
    "def sum(my_list):\n",
    "    my_sum = 0\n",
    "    for i in my_list:\n",
    "        my_sum += i\n",
    "    \n",
    "    return my_sum\n",
    "\n",
    "my_list = [2,3,4,435,4,445,3,44,3,53]\n",
    "print(sum(my_list))"
   ]
  },
  {
   "cell_type": "markdown",
   "id": "aae3b5b5",
   "metadata": {},
   "source": [
    "##### 11 Write a program to find the common elements between two lists."
   ]
  },
  {
   "cell_type": "code",
   "execution_count": 22,
   "id": "1014c93e",
   "metadata": {},
   "outputs": [
    {
     "name": "stdout",
     "output_type": "stream",
     "text": [
      "[2, 3, 4, 54]\n"
     ]
    }
   ],
   "source": [
    "list1 = [1,2,3,4,54,54,34]\n",
    "list2 = [2,3,4,54,6,7,8,5]\n",
    "\n",
    "set1 = set(list1)\n",
    "set2 = set(list2)\n",
    "print(list(set1.intersection(set2)))\n"
   ]
  },
  {
   "cell_type": "markdown",
   "id": "464637a4",
   "metadata": {},
   "source": [
    "##### 12. Implement a function to check if a given string is an anagram of another string."
   ]
  },
  {
   "cell_type": "code",
   "execution_count": 23,
   "id": "d53a8109",
   "metadata": {},
   "outputs": [
    {
     "name": "stdout",
     "output_type": "stream",
     "text": [
      "The words are anagrams.\n"
     ]
    }
   ],
   "source": [
    "def is_anagram(str1, str2):\n",
    "    char_freq_1 = {}\n",
    "    char_freq_2 = {}\n",
    "\n",
    "    for char in str1.lower():\n",
    "        char_freq_1[char] = char_freq_1.get(char, 0) + 1\n",
    "\n",
    "    for char in str2.lower():\n",
    "        char_freq_2[char] = char_freq_2.get(char, 0) + 1\n",
    "\n",
    "    return char_freq_1 == char_freq_2\n",
    "\n",
    "\n",
    "word1 = \"listen\"\n",
    "word2 = \"silent\"\n",
    "if is_anagram(word1, word2):\n",
    "    print(\"The words are anagrams.\")\n",
    "else:\n",
    "    print(\"The words are not anagrams.\")\n"
   ]
  },
  {
   "cell_type": "markdown",
   "id": "f0227404",
   "metadata": {},
   "source": [
    "#####  13 Write a Python program to generate all permutations of a given string."
   ]
  },
  {
   "cell_type": "code",
   "execution_count": 24,
   "id": "36f33d84",
   "metadata": {},
   "outputs": [
    {
     "name": "stdout",
     "output_type": "stream",
     "text": [
      "Permutations: ['abc', 'acb', 'bac', 'bca', 'cab', 'cba']\n"
     ]
    }
   ],
   "source": [
    "import itertools\n",
    "\n",
    "\n",
    "\n",
    "def generate_permutations(input_string):\n",
    "    permutations = list(itertools.permutations(input_string))\n",
    "    return [''.join(permutation) for permutation in permutations]\n",
    "\n",
    "\n",
    "string = \"abc\"\n",
    "permutations = generate_permutations(string)\n",
    "print(\"Permutations:\", permutations)\n"
   ]
  },
  {
   "cell_type": "code",
   "execution_count": 27,
   "id": "5e48e752",
   "metadata": {},
   "outputs": [
    {
     "name": "stdout",
     "output_type": "stream",
     "text": [
      "[('a', 'b', 'c'), ('a', 'c', 'b'), ('b', 'a', 'c'), ('b', 'c', 'a'), ('c', 'a', 'b'), ('c', 'b', 'a')]\n"
     ]
    }
   ],
   "source": [
    "## for analysis of permutation function\n",
    "\n",
    "\n",
    "\n",
    "import itertools\n",
    "\n",
    "##\n",
    "\n",
    "def generate_permutations(input_string):\n",
    "    permutations = list(itertools.permutations(input_string))\n",
    "    print(permutations)\n",
    "\n",
    "\n",
    "string = \"abc\"\n",
    "generate_permutations(string)\n",
    "\n"
   ]
  },
  {
   "cell_type": "markdown",
   "id": "05e197bb",
   "metadata": {},
   "source": [
    "##### 14 . Implement a function to calculate the Fibonacci sequence up to a given number of terms."
   ]
  },
  {
   "cell_type": "code",
   "execution_count": 29,
   "id": "10ddb227",
   "metadata": {},
   "outputs": [],
   "source": [
    "def fibo(n):\n",
    "    a,b  = 0,1\n",
    "    sequence = []\n",
    "    for i in range (n):\n",
    "        sequence.append(a)\n",
    "        a ,b = b , a+b\n",
    "    return sequence\n",
    "        "
   ]
  },
  {
   "cell_type": "code",
   "execution_count": 30,
   "id": "a663cc9c",
   "metadata": {},
   "outputs": [
    {
     "name": "stdout",
     "output_type": "stream",
     "text": [
      "[0, 1, 1, 2, 3, 5, 8, 13, 21, 34]\n"
     ]
    }
   ],
   "source": [
    "print(fibo(10))"
   ]
  },
  {
   "cell_type": "markdown",
   "id": "7674903a",
   "metadata": {},
   "source": [
    "##### 15 .  Write a program to find the median of a list of numbers.\n"
   ]
  },
  {
   "cell_type": "code",
   "execution_count": 31,
   "id": "c185f7c8",
   "metadata": {},
   "outputs": [
    {
     "data": {
      "text/plain": [
       "6.5"
      ]
     },
     "execution_count": 31,
     "metadata": {},
     "output_type": "execute_result"
    }
   ],
   "source": [
    "#smart way \n",
    "import numpy as np\n",
    "list = [2,3,2,3,2,4,5,6,7,5,7,8,8,12,14,55,65,21]\n",
    "my_list = np.array(list)\n",
    "np.median(my_list)"
   ]
  },
  {
   "cell_type": "code",
   "execution_count": 36,
   "id": "7ea8bfe3",
   "metadata": {},
   "outputs": [
    {
     "name": "stdout",
     "output_type": "stream",
     "text": [
      "Median: 6.0\n"
     ]
    }
   ],
   "source": [
    "def find_median(numbers):\n",
    "    sorted_numbers = sorted(numbers)\n",
    "    n = len(sorted_numbers)\n",
    "    if n % 2 == 0:\n",
    "        mid = n // 2\n",
    "        median = (sorted_numbers[mid - 1] + sorted_numbers[mid]) / 2\n",
    "    else:\n",
    "        mid = n // 2\n",
    "        median = sorted_numbers[mid]\n",
    "    return median\n",
    "\n",
    "\n",
    "number_list = [10, 5, 8, 3, 7, 2]\n",
    "median_value = find_median(number_list)\n",
    "print(\"Median:\", median_value)\n"
   ]
  },
  {
   "cell_type": "markdown",
   "id": "3eacb7f3",
   "metadata": {},
   "source": [
    "##### 16 Implement a function to check if a given list is sorted in non-decreasing order."
   ]
  },
  {
   "cell_type": "code",
   "execution_count": 37,
   "id": "b5040017",
   "metadata": {},
   "outputs": [
    {
     "name": "stdout",
     "output_type": "stream",
     "text": [
      "True\n"
     ]
    }
   ],
   "source": [
    "def is_sorted(my_list):\n",
    "    for i in range(len(my_list)-1):\n",
    "        if my_list[i] > my_list[i+1]:\n",
    "            return False\n",
    "        else:\n",
    "            return True\n",
    "my_list  = [2,3,4,5,6,7]        \n",
    "ans = is_sorted(my_list)\n",
    "print(ans)\n",
    "        "
   ]
  },
  {
   "cell_type": "markdown",
   "id": "b297a0ad",
   "metadata": {},
   "source": [
    "##### 17. Write a Python program to find the intersection of two lists."
   ]
  },
  {
   "cell_type": "code",
   "execution_count": 40,
   "id": "3658d4c5",
   "metadata": {},
   "outputs": [
    {
     "name": "stdout",
     "output_type": "stream",
     "text": [
      "{2, 3, 4, 5}\n"
     ]
    }
   ],
   "source": [
    "list1 = [2,3,4,5,6,4,5]\n",
    "list2 = [2,4,5,3,9,8]\n",
    "\n",
    "set1 = set(list1)\n",
    "set2 = set(list2)\n",
    "\n",
    "print(set1.intersection(set2))"
   ]
  },
  {
   "cell_type": "markdown",
   "id": "8d488e70",
   "metadata": {},
   "source": [
    "##### 18. Implement a function to find the maximum subarray sum in a given list."
   ]
  },
  {
   "cell_type": "code",
   "execution_count": 42,
   "id": "df04bf68",
   "metadata": {},
   "outputs": [
    {
     "name": "stdout",
     "output_type": "stream",
     "text": [
      "Maximum subarray sum: 6\n"
     ]
    }
   ],
   "source": [
    "def max_subarray_sum(numbers):\n",
    "    if not numbers:\n",
    "        return 0\n",
    "\n",
    "    current_sum = max_sum = numbers[0]\n",
    "    for num in numbers[1:]:\n",
    "        current_sum = max(num, current_sum + num)\n",
    "        max_sum = max(max_sum, current_sum)\n",
    "\n",
    "    return max_sum\n",
    "\n",
    "number_list = [4, 2, -3, 2, -11, 1, 1, -51, 4]\n",
    "maximum_sum = max_subarray_sum(number_list)\n",
    "print(\"Maximum subarray sum:\", maximum_sum)\n"
   ]
  },
  {
   "cell_type": "markdown",
   "id": "598cd5a2",
   "metadata": {},
   "source": [
    " ### I will keep on updating this notebook and will complete my assignmnet before saturday as i didn't got much time to do in this week.\n",
    " \n",
    "\n"
   ]
  },
  {
   "cell_type": "code",
   "execution_count": null,
   "id": "76101941",
   "metadata": {},
   "outputs": [],
   "source": []
  }
 ],
 "metadata": {
  "kernelspec": {
   "display_name": "Python 3 (ipykernel)",
   "language": "python",
   "name": "python3"
  },
  "language_info": {
   "codemirror_mode": {
    "name": "ipython",
    "version": 3
   },
   "file_extension": ".py",
   "mimetype": "text/x-python",
   "name": "python",
   "nbconvert_exporter": "python",
   "pygments_lexer": "ipython3",
   "version": "3.9.12"
  }
 },
 "nbformat": 4,
 "nbformat_minor": 5
}
