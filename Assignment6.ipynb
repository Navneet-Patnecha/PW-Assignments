{
 "cells": [
  {
   "attachments": {},
   "cell_type": "markdown",
   "metadata": {},
   "source": [
    "## Assignment Questions 6"
   ]
  },
  {
   "attachments": {},
   "cell_type": "markdown",
   "metadata": {},
   "source": [
    "**Question 1**\n",
    "\n",
    "A permutation perm of n + 1 integers of all the integers in the range [0, n] can be represented as a string s of length n where:\n",
    "\n",
    "- s[i] == 'I' if perm[i] < perm[i + 1], and\n",
    "- s[i] == 'D' if perm[i] > perm[i + 1].\n",
    "\n",
    "Given a string s, reconstruct the permutation perm and return it. If there are multiple valid permutations perm, return **any of them**.\n",
    "\n",
    "**Example 1:**\n",
    "\n",
    "\n",
    "**Input:** s = \"IDID\"\n",
    "\n",
    "**Output:**\n",
    "\n",
    "[0,4,1,3,2]\n",
    "\n"
   ]
  },
  {
   "cell_type": "code",
   "execution_count": 1,
   "metadata": {},
   "outputs": [
    {
     "name": "stdout",
     "output_type": "stream",
     "text": [
      "[1, 4, 2, 3, 3]\n"
     ]
    }
   ],
   "source": [
    "def findPermutation(s):\n",
    "    n = len(s)\n",
    "    perm = []\n",
    "    start, end = 1, n\n",
    "\n",
    "    for ch in s:\n",
    "        if ch == 'I':\n",
    "            perm.append(start)\n",
    "            start += 1\n",
    "        else:\n",
    "            perm.append(end)\n",
    "            end -= 1\n",
    "\n",
    "    perm.append(start)\n",
    "    return perm\n",
    "s = \"IDID\"\n",
    "result = findPermutation(s)\n",
    "print(result)  "
   ]
  },
  {
   "attachments": {},
   "cell_type": "markdown",
   "metadata": {},
   "source": [
    "**Question 2**\n",
    "\n",
    "You are given an m x n integer matrix matrix with the following two properties:\n",
    "\n",
    "- Each row is sorted in non-decreasing order.\n",
    "- The first integer of each row is greater than the last integer of the previous row.\n",
    "\n",
    "Given an integer target, return true *if* target *is in* matrix *or* false *otherwise*.\n",
    "\n",
    "You must write a solution in O(log(m * n)) time complexity.\n",
    "\n"
   ]
  },
  {
   "cell_type": "code",
   "execution_count": 2,
   "metadata": {},
   "outputs": [
    {
     "name": "stdout",
     "output_type": "stream",
     "text": [
      "True\n"
     ]
    }
   ],
   "source": [
    "def searchMatrix(matrix, target):\n",
    "    m = len(matrix)\n",
    "    n = len(matrix[0])\n",
    "\n",
    "    left = 0\n",
    "    right = m * n - 1\n",
    "\n",
    "    while left <= right:\n",
    "        mid = (left + right) // 2\n",
    "        row = mid // n\n",
    "        col = mid % n\n",
    "\n",
    "        if matrix[row][col] == target:\n",
    "            return True\n",
    "        elif matrix[row][col] > target:\n",
    "            right = mid - 1\n",
    "        else:\n",
    "            left = mid + 1\n",
    "\n",
    "    return False\n",
    "matrix = [[1, 3, 5, 7], [10, 11, 16, 20], [23, 30, 34, 60]]\n",
    "target = 3\n",
    "\n",
    "result = searchMatrix(matrix, target)\n",
    "print(result)  "
   ]
  },
  {
   "attachments": {},
   "cell_type": "markdown",
   "metadata": {},
   "source": [
    "**Question 3**\n",
    "\n",
    "Given an array of integers arr, return *true if and only if it is a valid mountain array*.\n",
    "\n",
    "Recall that arr is a mountain array if and only if:\n",
    "\n",
    "- arr.length >= 3\n",
    "- There exists some i with 0 < i < arr.length - 1 such that:\n",
    "    - arr[0] < arr[1] < ... < arr[i - 1] < arr[i]\n",
    "    - arr[i] > arr[i + 1] > ... > arr[arr.length - 1]\n",
    "\n"
   ]
  },
  {
   "cell_type": "code",
   "execution_count": 4,
   "metadata": {},
   "outputs": [
    {
     "name": "stdout",
     "output_type": "stream",
     "text": [
      "False\n",
      "False\n",
      "True\n",
      "False\n",
      "False\n"
     ]
    }
   ],
   "source": [
    "def validMountainArray(arr):\n",
    "    n = len(arr)\n",
    "    \n",
    "    if n < 3:\n",
    "        return False\n",
    "    \n",
    "    i = 0\n",
    "    \n",
    "    while i < n - 1 and arr[i] < arr[i+1]:\n",
    "        i += 1\n",
    "    \n",
    "    if i == 0 or i == n - 1:\n",
    "        return False\n",
    "    \n",
    "    while i < n - 1 and arr[i] > arr[i+1]:\n",
    "        i += 1\n",
    "    \n",
    "    return i == n - 1\n",
    "arr1 = [2, 1]\n",
    "arr2 = [3, 5, 5]\n",
    "arr3 = [0, 3, 2, 1]\n",
    "arr4 = [0, 1, 2, 3, 4, 5, 6, 7, 8, 9]\n",
    "arr5 = [9, 8, 7, 6, 5, 4, 3, 2, 1, 0]\n",
    "\n",
    "print(validMountainArray(arr1))  \n",
    "print(validMountainArray(arr2)) \n",
    "print(validMountainArray(arr3))\n",
    "print(validMountainArray(arr4)) \n",
    "print(validMountainArray(arr5))  \n"
   ]
  },
  {
   "attachments": {},
   "cell_type": "markdown",
   "metadata": {},
   "source": [
    "**Question 4**\n",
    "\n",
    "Given a binary array nums, return *the maximum length of a contiguous subarray with an equal number of* 0 *and* 1.\n",
    "\n",
    "**Example 1:**\n",
    "\n",
    "**Input:** nums = [0,1]\n",
    "\n",
    "**Output:** 2\n",
    "\n",
    "**Explanation:**\n",
    "\n",
    "[0, 1] is the longest contiguous subarray with an equal number of 0 and 1.\n",
    "\n"
   ]
  },
  {
   "cell_type": "code",
   "execution_count": 5,
   "metadata": {},
   "outputs": [
    {
     "name": "stdout",
     "output_type": "stream",
     "text": [
      "6\n"
     ]
    }
   ],
   "source": [
    "def findMaxLength(nums):\n",
    "    max_length = 0\n",
    "    count = {0: -1}\n",
    "    balance = 0\n",
    "    \n",
    "    for i in range(len(nums)):\n",
    "        if nums[i] == 0:\n",
    "            balance += 1\n",
    "        else:\n",
    "            balance -= 1\n",
    "        \n",
    "        if balance in count:\n",
    "            current_length = i - count[balance]\n",
    "            max_length = max(max_length, current_length)\n",
    "        else:\n",
    "            count[balance] = i\n",
    "    \n",
    "    return max_length\n",
    "nums = [0, 1, 0, 1, 1, 0, 0]\n",
    "\n",
    "print(findMaxLength(nums))  "
   ]
  },
  {
   "attachments": {},
   "cell_type": "markdown",
   "metadata": {},
   "source": [
    "**Question 5**\n",
    "\n",
    "The **product sum** of two equal-length arrays a and b is equal to the sum of a[i] * b[i] for all 0 <= i < a.length (**0-indexed**).\n",
    "\n",
    "- For example, if a = [1,2,3,4] and b = [5,2,3,1], the **product sum** would be 1*5 + 2*2 + 3*3 + 4*1 = 22.\n",
    "\n",
    "Given two arrays nums1 and nums2 of length n, return *the **minimum product sum** if you are allowed to **rearrange** the **order** of the elements in* nums1.\n",
    "\n",
    "**Example 1:**\n",
    "\n",
    "**Input:** nums1 = [5,3,4,2], nums2 = [4,2,2,5]\n",
    "\n",
    "**Output:** 40\n",
    "\n",
    "**Explanation:**\n",
    "\n",
    "We can rearrange nums1 to become [3,5,4,2]. The product sum of [3,5,4,2] and [4,2,2,5] is 3*4 + 5*2 + 4*2 + 2*5 = 40.\n",
    "\n"
   ]
  },
  {
   "cell_type": "code",
   "execution_count": 7,
   "metadata": {},
   "outputs": [
    {
     "name": "stdout",
     "output_type": "stream",
     "text": [
      "21\n"
     ]
    }
   ],
   "source": [
    "def minProductSum(nums1, nums2):\n",
    "    nums1.sort()\n",
    "    nums2.sort(reverse=True)\n",
    "    \n",
    "    result = 0\n",
    "    for i in range(len(nums1)):\n",
    "        result += nums1[i] * nums2[i]\n",
    "    \n",
    "    return result\n",
    "nums1 = [1, 2, 3, 4]\n",
    "nums2 = [5, 2, 3, 1]\n",
    "\n",
    "print(minProductSum(nums1, nums2))  "
   ]
  },
  {
   "attachments": {},
   "cell_type": "markdown",
   "metadata": {},
   "source": [
    " **Question 6**\n",
    "\n",
    "An integer array original is transformed into a **doubled** array changed by appending **twice the value** of every element in original, and then randomly **shuffling** the resulting array.\n",
    "\n",
    "Given an array changed, return original *if* changed *is a **doubled** array. If* changed *is not a **doubled** array, return an empty array. The elements in* original *may be returned in **any** order*.\n",
    "\n",
    "**Example 1:**\n",
    "\n",
    "**Input:** changed = [1,3,4,2,6,8]\n",
    "\n",
    "**Output:** [1,3,4]\n",
    "\n",
    "**Explanation:** One possible original array could be [1,3,4]:\n",
    "\n",
    "- Twice the value of 1 is 1 * 2 = 2.\n",
    "- Twice the value of 3 is 3 * 2 = 6.\n",
    "- Twice the value of 4 is 4 * 2 = 8.\n",
    "\n",
    "Other original arrays could be [4,3,1] or [3,1,4].\n",
    "\n"
   ]
  },
  {
   "cell_type": "code",
   "execution_count": 3,
   "metadata": {},
   "outputs": [],
   "source": [
    "from typing import List\n",
    "\n",
    "def findOriginalArray(changed: List[int]) -> List[int]:\n",
    "    if len(changed) % 2 != 0:\n",
    "        return []  # changed has odd length, so it can't be a doubled array\n",
    "    \n",
    "    changed_set = set(changed)\n",
    "    changed.sort()\n",
    "    original = []\n",
    "\n",
    "    for num in changed:\n",
    "        if num / 2 not in changed_set or changed_set[num / 2] == 0:\n",
    "            return []  # changed is not a doubled array\n",
    "        changed_set[num / 2] -= 1\n",
    "\n",
    "    for num in changed:\n",
    "        original.append(num // 2)\n",
    "\n",
    "    return original\n",
    "\n",
    "\n",
    "\n",
    "\n"
   ]
  },
  {
   "cell_type": "code",
   "execution_count": 4,
   "metadata": {},
   "outputs": [
    {
     "name": "stdout",
     "output_type": "stream",
     "text": [
      "[]\n"
     ]
    }
   ],
   "source": [
    "changed = [1, 3, 4, 2, 6, 8]\n",
    "print(findOriginalArray(changed))"
   ]
  },
  {
   "attachments": {},
   "cell_type": "markdown",
   "metadata": {},
   "source": [
    "**Question 7**\n",
    "\n",
    "Given a positive integer n, generate an n x n matrix filled with elements from 1 to n2 in spiral order.\n",
    "\n",
    "**Example 1:**\n",
    "\n",
    "**Input:** n = 3\n",
    "\n",
    "**Output:** [[1,2,3],[8,9,4],[7,6,5]]\n"
   ]
  },
  {
   "cell_type": "code",
   "execution_count": 6,
   "metadata": {},
   "outputs": [
    {
     "name": "stdout",
     "output_type": "stream",
     "text": [
      "[1, 2, 3]\n",
      "[8, 9, 4]\n",
      "[7, 6, 5]\n"
     ]
    }
   ],
   "source": [
    "from typing import List\n",
    "\n",
    "def generateMatrix(n: int) -> List[List[int]]:\n",
    "    matrix = [[0] * n for _ in range(n)]\n",
    "    num = 1\n",
    "    row_start, row_end = 0, n - 1\n",
    "    col_start, col_end = 0, n - 1\n",
    "\n",
    "    while num <= n * n:\n",
    "        for j in range(col_start, col_end + 1):\n",
    "            matrix[row_start][j] = num\n",
    "            num += 1\n",
    "        row_start += 1\n",
    "\n",
    "        for i in range(row_start, row_end + 1):\n",
    "            matrix[i][col_end] = num\n",
    "            num += 1\n",
    "        col_end -= 1\n",
    "\n",
    "        for j in range(col_end, col_start - 1, -1):\n",
    "            matrix[row_end][j] = num\n",
    "            num += 1\n",
    "        row_end -= 1\n",
    "\n",
    "        for i in range(row_end, row_start - 1, -1):\n",
    "            matrix[i][col_start] = num\n",
    "            num += 1\n",
    "        col_start += 1\n",
    "\n",
    "    return matrix\n",
    "\n",
    "n = 3\n",
    "result = generateMatrix(n)\n",
    "for row in result:\n",
    "    print(row)\n",
    "\n"
   ]
  },
  {
   "attachments": {},
   "cell_type": "markdown",
   "metadata": {},
   "source": [
    "**Question 8**\n",
    "\n",
    "Given two [sparse matrices](https://en.wikipedia.org/wiki/Sparse_matrix) mat1 of size m x k and mat2 of size k x n, return the result of mat1 x mat2. You may assume that multiplication is always possible.\n",
    "\n",
    "**Example 1:**\n",
    "\n",
    "**Input:** mat1 = [[1,0,0],[-1,0,3]], mat2 = [[7,0,0],[0,0,0],[0,0,1]]\n",
    "\n",
    "**Output:**\n",
    "\n",
    "[[7,0,0],[-7,0,3]]"
   ]
  },
  {
   "cell_type": "code",
   "execution_count": 7,
   "metadata": {},
   "outputs": [],
   "source": [
    "from typing import List\n",
    "\n",
    "def multiply(mat1: List[List[int]], mat2: List[List[int]]) -> List[List[int]]:\n",
    "    m, k = len(mat1), len(mat1[0])\n",
    "    n = len(mat2[0])\n",
    "\n",
    "    result = [[0] * n for _ in range(m)]\n",
    "\n",
    "    for i in range(m):\n",
    "        for col1, val1 in enumerate(mat1[i]):\n",
    "            if val1 != 0:\n",
    "                for j in range(n):\n",
    "                    val2 = mat2[col1][j]\n",
    "                    result[i][j] += val1 * val2\n",
    "\n",
    "    return result\n"
   ]
  },
  {
   "cell_type": "code",
   "execution_count": 8,
   "metadata": {},
   "outputs": [
    {
     "name": "stdout",
     "output_type": "stream",
     "text": [
      "[7, 0, 0]\n",
      "[-7, 0, 3]\n"
     ]
    }
   ],
   "source": [
    "mat1 = [[1, 0, 0],\n",
    "        [-1, 0, 3]]\n",
    "\n",
    "mat2 = [[7, 0, 0],\n",
    "        [0, 0, 0],\n",
    "        [0, 0, 1]]\n",
    "\n",
    "result = multiply(mat1, mat2)\n",
    "for row in result:\n",
    "    print(row)\n"
   ]
  },
  {
   "cell_type": "code",
   "execution_count": null,
   "metadata": {},
   "outputs": [],
   "source": []
  }
 ],
 "metadata": {
  "kernelspec": {
   "display_name": "Python 3",
   "language": "python",
   "name": "python3"
  },
  "language_info": {
   "codemirror_mode": {
    "name": "ipython",
    "version": 3
   },
   "file_extension": ".py",
   "mimetype": "text/x-python",
   "name": "python",
   "nbconvert_exporter": "python",
   "pygments_lexer": "ipython3",
   "version": "3.9.10"
  },
  "orig_nbformat": 4
 },
 "nbformat": 4,
 "nbformat_minor": 2
}
