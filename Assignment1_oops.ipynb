{
 "cells": [
  {
   "cell_type": "markdown",
   "id": "8a6fb115",
   "metadata": {},
   "source": [
    "### Q1. Explain Class and Object with respect to Object-Oriented Programming. Give a suitable example.\n",
    "\n",
    "\n",
    "In object-oriented programming (OOP), a class is a blueprint for creating objects. It defines the properties and behaviors of objects of that type. An object is an instance of a class. It has the properties and behaviors defined by the class, and it can also have its own unique properties and behaviors.\n",
    "\n",
    "For example, a class called Car might define the properties color, make, and model. It might also define the behaviors drive(), stop(), and turn(). An object of the Car class would have a specific color, make, and model. It would also be able to drive, stop, and turn.\n"
   ]
  },
  {
   "cell_type": "code",
   "execution_count": 5,
   "id": "c0905796",
   "metadata": {},
   "outputs": [],
   "source": [
    "class Car:\n",
    "    def __init__(self, color, make, model):\n",
    "        self.color = color\n",
    "        self.make = make\n",
    "        self.model = model\n",
    "\n",
    "    def drive(self):\n",
    "        print(\"The car is driving.\")\n",
    "\n",
    "    def stop(self):\n",
    "        print(\"The car is stopping.\")\n",
    "\n",
    "    def turn(self, direction):\n",
    "        print(\"The car is turning \" + direction)\n"
   ]
  },
  {
   "cell_type": "markdown",
   "id": "bfeca09a",
   "metadata": {},
   "source": [
    "This class defines the properties color, make, and model. It also defines the behaviors drive(), stop(), and turn().\n",
    "\n"
   ]
  },
  {
   "cell_type": "code",
   "execution_count": 6,
   "id": "4223e844",
   "metadata": {},
   "outputs": [],
   "source": [
    "my_car = Car(\"red\", \"Honda\", \"Accord\")\n"
   ]
  },
  {
   "cell_type": "code",
   "execution_count": 7,
   "id": "10d0a83a",
   "metadata": {},
   "outputs": [
    {
     "name": "stdout",
     "output_type": "stream",
     "text": [
      "The car is turning right\n"
     ]
    }
   ],
   "source": [
    "my_car.turn('right')"
   ]
  },
  {
   "cell_type": "code",
   "execution_count": 8,
   "id": "e964686c",
   "metadata": {},
   "outputs": [
    {
     "name": "stdout",
     "output_type": "stream",
     "text": [
      "The car is driving.\n"
     ]
    }
   ],
   "source": [
    "my_car.drive()"
   ]
  },
  {
   "cell_type": "markdown",
   "id": "168b748f",
   "metadata": {},
   "source": [
    "Object-oriented programming is a powerful way to write code. It allows you to create reusable code that is easy to maintain. Classes and objects are the two fundamental concepts of OOP. By understanding these concepts, you can write better and more efficient code."
   ]
  },
  {
   "cell_type": "markdown",
   "id": "56a88dfb",
   "metadata": {},
   "source": [
    "### Q2.Name the four pillars of OOPs.\n",
    "\n",
    "##### Abstraction:\n",
    "Abstraction is the process of hiding the details of an object's implementation from the user. This allows the user to focus on the object's functionality, without having to worry about how it works.\n",
    "##### Encapsulation:\n",
    "Encapsulation is the process of grouping together data and methods into a single unit. This makes it easier to manage the object's state and to protect its data from unauthorized access.\n",
    "###### Inheritance:\n",
    "Inheritance is the process of creating a new class from an existing class. The new class inherits the properties and methods of the existing class, and it can also add its own unique properties and methods.\n",
    "#####  Polymorphism:\n",
    "Polymorphism is the ability of an object to take on multiple forms. This is achieved through the use of abstract classes and interfaces.\n"
   ]
  },
  {
   "cell_type": "markdown",
   "id": "6a2773c6",
   "metadata": {},
   "source": [
    "### Q3. Explain why the __init__() function is used. Give a suitable example.\n",
    "\n",
    "The __init__() function in Python is a special method that is automatically called when an object of a class is created. It is used to initialize or set up the initial state of an object by assigning values to its attributes or performing any necessary setup tasks.\n",
    "\n",
    "The __init__() method allows you to specify the initial state of an object and define its attributes. It is also known as a constructor method because it constructs or creates an instance of a class.\n",
    "\n",
    "Here's a suitable example to explain the use of __init__() function:"
   ]
  },
  {
   "cell_type": "code",
   "execution_count": 9,
   "id": "41e4fbda",
   "metadata": {},
   "outputs": [
    {
     "name": "stdout",
     "output_type": "stream",
     "text": [
      "Toyota\n",
      "Corolla\n",
      "2022\n",
      "0\n",
      "100\n"
     ]
    }
   ],
   "source": [
    "class Car:\n",
    "    def __init__(self, make, model, year):\n",
    "        self.make = make\n",
    "        self.model = model\n",
    "        self.year = year\n",
    "        self.mileage = 0\n",
    "    \n",
    "    def drive(self, miles):\n",
    "        self.mileage += miles\n",
    "\n",
    "# Creating an instance of the Car class\n",
    "my_car = Car(\"Toyota\", \"Corolla\", 2022)\n",
    "\n",
    "# Accessing the attributes of the car object\n",
    "print(my_car.make)   # Output: Toyota\n",
    "print(my_car.model)  # Output: Corolla\n",
    "print(my_car.year)   # Output: 2022\n",
    "print(my_car.mileage)  # Output: 0\n",
    "\n",
    "# Driving the car and updating the mileage\n",
    "my_car.drive(100)\n",
    "print(my_car.mileage)  # Output: 100\n"
   ]
  },
  {
   "cell_type": "markdown",
   "id": "504a58b4",
   "metadata": {},
   "source": [
    "\n",
    "The __init__() function in Python is a special method that is automatically called when an object of a class is created. It is used to initialize or set up the initial state of an object by assigning values to its attributes or performing any necessary setup tasks.\n",
    "\n",
    "The __init__() method allows you to specify the initial state of an object and define its attributes. It is also known as a constructor method because it constructs or creates an instance of a class.\n",
    "\n",
    "Here's a suitable example to explain the use of __init__() function:\n",
    "\n",
    "python\n",
    "Copy code\n",
    "class Car:\n",
    "    def __init__(self, make, model, year):\n",
    "        self.make = make\n",
    "        self.model = model\n",
    "        self.year = year\n",
    "        self.mileage = 0\n",
    "    \n",
    "    def drive(self, miles):\n",
    "        self.mileage += miles\n",
    "\n",
    "##### Creating an instance of the Car class\n",
    "my_car = Car(\"Toyota\", \"Corolla\", 2022)\n",
    "\n",
    "##### Accessing the attributes of the car object\n",
    "print(my_car.make)   # Output: Toyota\n",
    "print(my_car.model)  # Output: Corolla\n",
    "print(my_car.year)   # Output: 2022\n",
    "print(my_car.mileage)  # Output: 0\n",
    "\n",
    "#####  Driving the car and updating the mileage\n",
    "my_car.drive(100)\n",
    "print(my_car.mileage)  # Output: 100\n",
    "In this example, the Car class has an __init__() method that takes in three parameters: make, model, and year. These parameters are used to initialize the attributes of the car object (self.make, self.model, self.year, and self.mileage).\n",
    "\n",
    "When we create an instance of the Car class using my_car = Car(\"Toyota\", \"Corolla\", 2022), the __init__() method is automatically called, and the attributes make, model, and year are set according to the provided values. The mileage attribute is also initialized to 0.\n",
    "\n",
    "The __init__() method allows us to set the initial state of the object and define any necessary attributes before we start using the object. It provides a convenient way to ensure that an object is properly initialized and ready to be used in our program."
   ]
  },
  {
   "cell_type": "markdown",
   "id": "e2bf56a8",
   "metadata": {},
   "source": [
    "### Q4 Why self is used in OOPs?\n",
    "\n",
    "\n",
    "In object-oriented programming (OOP), the self keyword is used to refer to the instance of a class within the class definition. It is a convention in Python to use the name self as the first parameter of instance methods.\n",
    "\n",
    "Here are the reasons why self is used in OOP:\n",
    "\n",
    "##### Referencing Instance Attributes:\n",
    "By using self, you can access and modify the instance attributes (variables) of a class within its methods. It allows you to differentiate between the attributes of different instances of the same class. Without self, you wouldn't be able to access instance-specific data.\n",
    "\n",
    "##### Method Invocation:\n",
    "Using self as the first parameter in instance methods allows you to call other methods within the class. It ensures that the method being called is associated with the specific instance on which the method is invoked.\n",
    "\n",
    "##### Differentiating between Class and Instance Variables:\n",
    "self helps to distinguish between class variables and instance variables. Class variables are shared among all instances of a class, while instance variables are specific to each object. By using self, you can access and modify instance variables, whereas without self, you would be referencing or modifying the class variable.\n",
    "\n",
    "Creating and Modifying Instances: When creating new instances of a class, self is used to refer to the newly created object. It allows you to assign values to instance attributes and initialize the object's state."
   ]
  },
  {
   "cell_type": "markdown",
   "id": "9ff326fa",
   "metadata": {},
   "source": [
    "### Q5. What is inheritance? Give an example for each type of inheritance.\n",
    "Inheritance is a fundamental concept in object-oriented programming (OOP) that allows new classes to be created based on existing classes. It enables code reuse and promotes a hierarchical structure in which classes inherit attributes and behaviors from their parent classes.\n",
    "\n",
    "There are several types of inheritance in OOP:\n",
    "\n",
    "#### Single Inheritance:\n",
    "Single inheritance is when a derived class inherits from a single base or parent class. It forms a one-to-one inheritance relationship."
   ]
  },
  {
   "cell_type": "code",
   "execution_count": 10,
   "id": "b32afa3a",
   "metadata": {},
   "outputs": [],
   "source": [
    "class Animal:\n",
    "    def speak(self):\n",
    "        print(\"Animal speaking\")\n",
    "\n",
    "class Dog(Animal):\n",
    "    def bark(self):\n",
    "        print(\"Dog barking\")\n"
   ]
  },
  {
   "cell_type": "markdown",
   "id": "bec0d12e",
   "metadata": {},
   "source": [
    "##### Multiple Inheritance:\n",
    "Multiple inheritance is when a derived class inherits from multiple base or parent classes. It allows a class to inherit attributes and methods from multiple sources"
   ]
  },
  {
   "cell_type": "code",
   "execution_count": 11,
   "id": "a16de0b9",
   "metadata": {},
   "outputs": [],
   "source": [
    "class Bird:\n",
    "    def fly(self):\n",
    "        print(\"Bird flying\")\n",
    "\n",
    "class Mammal:\n",
    "    def walk(self):\n",
    "        print(\"Mammal walking\")\n",
    "\n",
    "class Bat(Bird, Mammal):\n",
    "    def echo_location(self):\n",
    "        print(\"Bat using echolocation\")\n"
   ]
  },
  {
   "cell_type": "markdown",
   "id": "289297ba",
   "metadata": {},
   "source": [
    "##### Multilevel Inheritance:\n",
    "Multilevel inheritance is when a derived class inherits from a base class, and that derived class becomes the base class for another class. It forms a chain of inheritance."
   ]
  },
  {
   "cell_type": "code",
   "execution_count": 12,
   "id": "21a816ef",
   "metadata": {},
   "outputs": [],
   "source": [
    "class Animal:\n",
    "    def speak(self):\n",
    "        print(\"Animal speaking\")\n",
    "\n",
    "class Dog(Animal):\n",
    "    def bark(self):\n",
    "        print(\"Dog barking\")\n",
    "\n",
    "class Poodle(Dog):\n",
    "    def dance(self):\n",
    "        print(\"Poodle dancing\")\n"
   ]
  },
  {
   "cell_type": "markdown",
   "id": "0d6b6e0e",
   "metadata": {},
   "source": [
    "##### Hierarchical Inheritance:\n",
    "Hierarchical inheritance is when multiple derived classes inherit from a single base class. It forms a hierarchical tree-like structure."
   ]
  },
  {
   "cell_type": "code",
   "execution_count": 13,
   "id": "f839a051",
   "metadata": {},
   "outputs": [],
   "source": [
    "class Animal:\n",
    "    def speak(self):\n",
    "        print(\"Animal speaking\")\n",
    "\n",
    "class Cat(Animal):\n",
    "    def meow(self):\n",
    "        print(\"Cat meowing\")\n",
    "\n",
    "class Lion(Animal):\n",
    "    def roar(self):\n",
    "        print(\"Lion roaring\")\n"
   ]
  },
  {
   "cell_type": "markdown",
   "id": "870ee99c",
   "metadata": {},
   "source": [
    "##### Hybrid Inheritance:\n",
    "Hybrid inheritance is a combination of multiple types of inheritance. It can include any combination of single, multiple, multilevel, or hierarchical inheritance."
   ]
  },
  {
   "cell_type": "code",
   "execution_count": 14,
   "id": "a2c6d4f1",
   "metadata": {},
   "outputs": [],
   "source": [
    "class Vehicle:\n",
    "    def start(self):\n",
    "        print(\"Vehicle starting\")\n",
    "\n",
    "class Car(Vehicle):\n",
    "    def drive(self):\n",
    "        print(\"Car driving\")\n",
    "\n",
    "class Boat(Vehicle):\n",
    "    def sail(self):\n",
    "        print(\"Boat sailing\")\n",
    "\n",
    "class AmphibiousVehicle(Car, Boat):\n",
    "    def swim(self):\n",
    "        print(\"Amphibious vehicle swimming\")\n"
   ]
  },
  {
   "cell_type": "code",
   "execution_count": null,
   "id": "e23093f3",
   "metadata": {},
   "outputs": [],
   "source": []
  }
 ],
 "metadata": {
  "kernelspec": {
   "display_name": "Python 3 (ipykernel)",
   "language": "python",
   "name": "python3"
  },
  "language_info": {
   "codemirror_mode": {
    "name": "ipython",
    "version": 3
   },
   "file_extension": ".py",
   "mimetype": "text/x-python",
   "name": "python",
   "nbconvert_exporter": "python",
   "pygments_lexer": "ipython3",
   "version": "3.9.12"
  }
 },
 "nbformat": 4,
 "nbformat_minor": 5
}
