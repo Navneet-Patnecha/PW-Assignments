{
 "cells": [
  {
   "cell_type": "markdown",
   "metadata": {},
   "source": [
    "## ASSIGNMENT 3"
   ]
  },
  {
   "cell_type": "markdown",
   "metadata": {},
   "source": [
    "1. Scenario: A company wants to analyze the sales performance of its products in different\n",
    "regions. They have collected the following data:\n",
    "Region A: [10, 15, 12, 8, 14]\n",
    "Region B: [18, 20, 16, 22, 25]\n",
    "Calculate the mean sales for each region."
   ]
  },
  {
   "cell_type": "code",
   "execution_count": 1,
   "metadata": {},
   "outputs": [
    {
     "name": "stdout",
     "output_type": "stream",
     "text": [
      "Region_A mean is:- 11.8\n",
      "Region_A mean is:- 20.2\n"
     ]
    }
   ],
   "source": [
    "import numpy as np\n",
    "Region_A= [10, 15, 12, 8, 14]\n",
    "Region_B= [18, 20, 16, 22, 25]\n",
    "A = np.mean(Region_A)\n",
    "print(\"Region_A mean is:-\",A)\n",
    "B = np.mean(Region_B)\n",
    "print(\"Region_A mean is:-\",B)"
   ]
  },
  {
   "cell_type": "markdown",
   "metadata": {},
   "source": [
    "2. Scenario: A survey is conducted to measure customer satisfaction on a scale of 1 to 5. The\n",
    "data collected is as follows:\n",
    "[4, 5, 2, 3, 5, 4, 3, 2, 4, 5]\n",
    "Calculate the mode of the survey responses."
   ]
  },
  {
   "cell_type": "code",
   "execution_count": 3,
   "metadata": {},
   "outputs": [
    {
     "name": "stdout",
     "output_type": "stream",
     "text": [
      " Mode of customer satisfaction survey range is:- 4\n"
     ]
    }
   ],
   "source": [
    "import statistics\n",
    "Customer = [4, 5, 2, 3, 5, 4, 3, 2, 4, 5]\n",
    "Scale = statistics.mode(Customer)\n",
    "print(\" Mode of customer satisfaction survey range is:-\",Scale)"
   ]
  },
  {
   "cell_type": "markdown",
   "metadata": {},
   "source": [
    "3. Scenario: A company wants to compare the salaries of two departments. The salary data for\n",
    "Department A and Department B are as follows:\n",
    "Department A: [5000, 6000, 5500, 7000]\n",
    "Department B: [4500, 5500, 5800, 6000, 5200]\n",
    "Calculate the median salary for each department."
   ]
  },
  {
   "cell_type": "code",
   "execution_count": 4,
   "metadata": {},
   "outputs": [
    {
     "name": "stdout",
     "output_type": "stream",
     "text": [
      "Department A salaries median is:- 5750.0\n",
      "Department B salaries median is:- 5500\n"
     ]
    }
   ],
   "source": [
    "Department_A= [5000, 6000, 5500, 7000]\n",
    "Department_B= [4500, 5500, 5800, 6000, 5200]\n",
    "a = statistics.median(Department_A)\n",
    "b= statistics.median(Department_B)\n",
    "print(\"Department A salaries median is:-\",a)\n",
    "print(\"Department B salaries median is:-\",b)\n"
   ]
  },
  {
   "cell_type": "markdown",
   "metadata": {},
   "source": [
    "4. Scenario: A data analyst wants to determine the variability in the daily stock prices of a\n",
    "company. The data collected is as follows:\n",
    "[25.5, 24.8, 26.1, 25.3, 24.9]\n",
    "Calculate the range of the stock prices."
   ]
  },
  {
   "cell_type": "code",
   "execution_count": 5,
   "metadata": {},
   "outputs": [
    {
     "name": "stdout",
     "output_type": "stream",
     "text": [
      "Range of stock prices: 1.3000000000000007\n"
     ]
    }
   ],
   "source": [
    "DA = [25.5, 24.8, 26.1, 25.3, 24.9]\n",
    "range_prices = max(DA) - min(DA)\n",
    "print(\"Range of stock prices:\", range_prices)"
   ]
  },
  {
   "cell_type": "markdown",
   "metadata": {},
   "source": [
    "5. Scenario: A study is conducted to compare the performance of two different teaching\n",
    "methods. The test scores of the students in each group are as follows:\n",
    "Group A: [85, 90, 92, 88, 91]\n",
    "Group B: [82, 88, 90, 86, 87]\n",
    "Perform a t-test to determine if there is a significant difference in the mean scores between the\n",
    "two groups."
   ]
  },
  {
   "cell_type": "code",
   "execution_count": 9,
   "metadata": {},
   "outputs": [
    {
     "name": "stdout",
     "output_type": "stream",
     "text": [
      "T-statistic: 1.4312528946642733\n",
      "P-value: 0.19023970239078333\n"
     ]
    }
   ],
   "source": [
    "import scipy.stats as stats\n",
    "Group_A= [85, 90, 92, 88, 91]\n",
    "Group_B= [82, 88, 90, 86, 87]\n",
    "t_statistics,p_value = stats.ttest_ind(Group_A,Group_B)\n",
    "print(\"T-statistic:\", t_statistics)\n",
    "print(\"P-value:\", p_value)"
   ]
  },
  {
   "cell_type": "markdown",
   "metadata": {},
   "source": [
    "6. Scenario: A company wants to analyze the relationship between advertising expenditure and\n",
    "sales. The data collected is as follows:\n",
    "Advertising Expenditure (in thousands): [10, 15, 12, 8, 14]\n",
    "Sales (in thousands): [25, 30, 28, 20, 26]\n",
    "Calculate the correlation coefficient between advertising expenditure and sales."
   ]
  },
  {
   "cell_type": "code",
   "execution_count": 12,
   "metadata": {},
   "outputs": [
    {
     "name": "stdout",
     "output_type": "stream",
     "text": [
      "Correlation Coefficient between advertising expenditure and sales is:- 0.8757511375750132\n"
     ]
    }
   ],
   "source": [
    "Advertising_Expenditure=[10, 15, 12, 8, 14]\n",
    "Sales=[25, 30, 28, 20, 26]\n",
    "correlation_coefficient= np.corrcoef(Advertising_Expenditure,Sales)[0, 1]\n",
    "print(\"Correlation Coefficient between advertising expenditure and sales is:-\",correlation_coefficient)"
   ]
  },
  {
   "cell_type": "markdown",
   "metadata": {},
   "source": [
    "7. Scenario: A survey is conducted to measure the heights of a group of people. The data\n",
    "collected is as follows:\n",
    "[160, 170, 165, 155, 175, 180, 170]\n",
    "Calculate the standard deviation of the heights."
   ]
  },
  {
   "cell_type": "code",
   "execution_count": 15,
   "metadata": {},
   "outputs": [
    {
     "name": "stdout",
     "output_type": "stream",
     "text": [
      "Standard deviation of the heights is:- 7.953949089757174\n"
     ]
    }
   ],
   "source": [
    "Height=[160, 170, 165, 155, 175, 180, 170]\n",
    "H=np.std(Height)\n",
    "print(\"Standard deviation of the heights is:-\",H)\n"
   ]
  },
  {
   "cell_type": "markdown",
   "metadata": {},
   "source": [
    "8. Scenario: A company wants to analyze the relationship between employee tenure and job\n",
    "satisfaction. The data collected is as follows:\n",
    "Employee Tenure (in years): [2, 3, 5, 4, 6, 2, 4] Job Satisfaction (on a scale of 1 to 10): [7, 8, 6, 9, 5, 7, 6]\n",
    "Perform a linear regression analysis to predict job satisfaction based on employee tenure."
   ]
  },
  {
   "cell_type": "code",
   "execution_count": 18,
   "metadata": {},
   "outputs": [
    {
     "name": "stdout",
     "output_type": "stream",
     "text": [
      "Slope: -0.4680851063829787\n",
      "intercept: 8.595744680851062\n",
      "R Value: -0.520573376708331\n",
      "P Value: 0.23095550952297988\n",
      "Standard Error: 0.34333860006713723\n"
     ]
    }
   ],
   "source": [
    "Employee_Tenure=[2, 3, 5, 4, 6, 2, 4] \n",
    "Job_Satisfaction=[7, 8, 6, 9, 5, 7, 6]\n",
    "slope, intercept, r_value, p_value, std_err = stats.linregress(Employee_Tenure,Job_Satisfaction)\n",
    "print(\"Slope:\",slope)\n",
    "print(\"intercept:\",intercept)\n",
    "print(\"R Value:\",r_value)\n",
    "print(\"P Value:\",p_value)\n",
    "print(\"Standard Error:\",std_err)"
   ]
  },
  {
   "cell_type": "markdown",
   "metadata": {},
   "source": [
    "9. Scenario: A study is conducted to compare the effectiveness of two different medications.\n",
    "The recovery times of the patients in each group are as follows:\n",
    "Medication A: [10, 12, 14, 11, 13]\n",
    "Medication B: [15, 17, 16, 14, 18]\n",
    "Perform an analysis of variance (ANOVA) to determine if there is a significant difference in the\n",
    "mean recovery times between the two medications."
   ]
  },
  {
   "cell_type": "code",
   "execution_count": 20,
   "metadata": {},
   "outputs": [
    {
     "name": "stdout",
     "output_type": "stream",
     "text": [
      "F-value: 16.0\n",
      "P-value: 0.003949772803445326\n"
     ]
    }
   ],
   "source": [
    "Medication_A=[10, 12, 14, 11, 13]\n",
    "Medication_B=[15, 17, 16, 14, 18]\n",
    "f_value, p_value = stats.f_oneway(Medication_A,Medication_B)\n",
    "print(\"F-value:\",f_value)\n",
    "print(\"P-value:\",p_value)"
   ]
  },
  {
   "cell_type": "markdown",
   "metadata": {},
   "source": [
    "10. Scenario: A company wants to analyze customer feedback ratings on a scale of 1 to 10. The\n",
    "data collected is as follows:\n",
    "[8, 9, 7, 6, 8, 10, 9, 8, 7, 8]\n",
    "Calculate the 75th percentile of the feedback ratings."
   ]
  },
  {
   "cell_type": "code",
   "execution_count": 22,
   "metadata": {},
   "outputs": [
    {
     "name": "stdout",
     "output_type": "stream",
     "text": [
      "75th percentile of feedback ratings is:  8.75\n"
     ]
    }
   ],
   "source": [
    "feedback_ratings = [8, 9, 7, 6, 8, 10, 9, 8, 7, 8]\n",
    "percentile_75 = np.percentile(feedback_ratings,75)\n",
    "print(\"75th percentile of feedback ratings is: \",percentile_75)"
   ]
  },
  {
   "cell_type": "markdown",
   "metadata": {},
   "source": [
    "11. Scenario: A quality control department wants to test the weight consistency of a product.\n",
    "The weights of a sample of products are as follows:\n",
    "[10.2, 9.8, 10.0, 10.5, 10.3, 10.1]\n",
    "Perform a hypothesis test to determine if the mean weight differs significantly from 10 grams."
   ]
  },
  {
   "cell_type": "code",
   "execution_count": 23,
   "metadata": {},
   "outputs": [
    {
     "name": "stdout",
     "output_type": "stream",
     "text": [
      "T-Statistic: 1.5126584522688367\n",
      "P-value 0.19077595151110102\n"
     ]
    }
   ],
   "source": [
    "weight=[10.2, 9.8, 10.0, 10.5, 10.3, 10.1]\n",
    "hypothesis_mean = 10\n",
    "t_statistics,p_value = stats.ttest_1samp(weight,hypothesis_mean)\n",
    "print(\"T-Statistic:\", t_statistics)\n",
    "print(\"P-value\",p_value)"
   ]
  },
  {
   "cell_type": "markdown",
   "metadata": {},
   "source": [
    "12. Scenario: A company wants to analyze the click-through rates of two different website\n",
    "designs. The number of clicks for each design is as follows:\n",
    "Design A: [100, 120, 110, 90, 95]\n",
    "Design B: [80, 85, 90, 95, 100]\n",
    "Perform a chi-square test to determine if there is a significant difference in the click-through\n",
    "rates between the two designs."
   ]
  },
  {
   "cell_type": "code",
   "execution_count": 27,
   "metadata": {},
   "outputs": [
    {
     "name": "stdout",
     "output_type": "stream",
     "text": [
      "Chi-square statistic: 6.110658166925435\n",
      "P-value: 0.19103526314060293\n"
     ]
    }
   ],
   "source": [
    "import scipy.stats as stats\n",
    "Design_A= [100, 120, 110, 90, 95]\n",
    "Design_B= [80, 85, 90, 95, 100]\n",
    "chi2_statistic, p_value, _, _ = stats.chi2_contingency([Design_A,Design_B])\n",
    "\n",
    "# Print the results\n",
    "print(\"Chi-square statistic:\", chi2_statistic)\n",
    "print(\"P-value:\", p_value)"
   ]
  },
  {
   "cell_type": "markdown",
   "metadata": {},
   "source": [
    "13. Scenario: A survey is conducted to measure customer satisfaction with a product on a scale\n",
    "of 1 to 10. The data collected is as follows:\n",
    "[7, 9, 6, 8, 10, 7, 8, 9, 7, 8]\n",
    "Calculate the 95% confidence interval for the population mean satisfaction score."
   ]
  },
  {
   "cell_type": "code",
   "execution_count": 43,
   "metadata": {},
   "outputs": [
    {
     "name": "stdout",
     "output_type": "stream",
     "text": [
      "95% Confidence Interval for the Population Mean Satisfaction Score is: (7.043561120599888, 8.756438879400113)\n"
     ]
    }
   ],
   "source": [
    "satisfaction_score=[7, 9, 6, 8, 10, 7, 8, 9, 7, 8]\n",
    "\n",
    "sample_mean=np.mean(satisfaction_score)\n",
    "sample_std=np.std(satisfaction_score, ddof=1)\n",
    "sample_size=len(satisfaction_score)\n",
    "std_err= sample_std / np.sqrt(sample_size)\n",
    "                                                        # Set the confidence level\n",
    "confidence_level = 0.95\n",
    "                                                        # Calculate the confidence interval\n",
    "confidence_interval = stats.t.interval(confidence_level, df=sample_size-1, loc=sample_mean, scale=std_err)\n",
    "\n",
    "print(\"95% Confidence Interval for the Population Mean Satisfaction Score is:\", confidence_interval)"
   ]
  },
  {
   "cell_type": "markdown",
   "metadata": {},
   "source": [
    "14. Scenario: A company wants to analyze the effect of temperature on product performance.\n",
    "The data collected is as follows:\n",
    "Temperature (in degrees Celsius): [20, 22, 23, 19, 21]\n",
    "Performance (on a scale of 1 to 10): [8, 7, 9, 6, 8]\n",
    "Perform a simple linear regression to predict performance based on temperature."
   ]
  },
  {
   "cell_type": "code",
   "execution_count": 36,
   "metadata": {},
   "outputs": [
    {
     "name": "stdout",
     "output_type": "stream",
     "text": [
      "Temperature: 24 Predicted Performance: 9.099999999999998\n",
      "Temperature: 25 Predicted Performance: 9.599999999999998\n"
     ]
    }
   ],
   "source": [
    "from sklearn.linear_model import LinearRegression\n",
    "Temperature=[20, 22, 23, 19, 21]\n",
    "Performance=[8, 7, 9, 6, 8]\n",
    "\n",
    "model =LinearRegression()              # Create and fit the linear regression model\n",
    "model.fit([[t] for t in Temperature],Performance)\n",
    "\n",
    "test_temp = [24,25]                  # Test data for prediction\n",
    "\n",
    "predicted_performance = model.predict([[t] for t in test_temp])           # Make predection\n",
    "\n",
    "for t, p in zip(test_temp, predicted_performance):\n",
    "    print(\"Temperature:\", t, \"Predicted Performance:\",p)"
   ]
  },
  {
   "cell_type": "markdown",
   "metadata": {},
   "source": [
    "15. Scenario: A study is conducted to compare the preferences of two groups of participants.\n",
    "The preferences are measured on a Likert scale from 1 to 5. The data collected is as follows:\n",
    "Group A: [4, 3, 5, 2, 4]\n",
    "Group B: [3, 2, 4, 3, 3]\n",
    "Perform a Mann-Whitney U test to determine if there is a significant difference in the median\n",
    "preferences between the two groups."
   ]
  },
  {
   "cell_type": "code",
   "execution_count": 35,
   "metadata": {},
   "outputs": [
    {
     "name": "stdout",
     "output_type": "stream",
     "text": [
      "U_statistic 17.0\n",
      "P-Value 0.380836480306712\n"
     ]
    }
   ],
   "source": [
    "Group_A= [4, 3, 5, 2, 4]\n",
    "Group_B= [3, 2, 4, 3, 3]\n",
    "u_statistic, p_value = stats.mannwhitneyu(Group_A,Group_B)\n",
    "print(\"U_statistic\",u_statistic)\n",
    "print(\"P-Value\",p_value)"
   ]
  },
  {
   "cell_type": "markdown",
   "metadata": {},
   "source": [
    "16. Scenario: A company wants to analyze the distribution of customer ages. The data collected\n",
    "is as follows:\n",
    "[25, 30, 35, 40, 45, 50, 55, 60, 65, 70]\n",
    "Calculate the interquartile range (IQR) of the ages."
   ]
  },
  {
   "cell_type": "code",
   "execution_count": 34,
   "metadata": {},
   "outputs": [
    {
     "name": "stdout",
     "output_type": "stream",
     "text": [
      "Interquartile range (IQR) of the ages is: 22.5\n"
     ]
    }
   ],
   "source": [
    "AGE=[25, 30, 35, 40, 45, 50, 55, 60, 65, 70]\n",
    "q3=np.percentile(AGE, 75)\n",
    "q1=np.percentile(AGE, 25)\n",
    "iqr = q3 - q1\n",
    "print(\"Interquartile range (IQR) of the ages is:\",iqr)"
   ]
  },
  {
   "cell_type": "markdown",
   "metadata": {},
   "source": [
    "17. Scenario: A study is conducted to compare the performance of three different machine\n",
    "learning algorithms. The accuracy scores for each algorithm are as follows:\n",
    "Algorithm A: [0.85, 0.80, 0.82, 0.87, 0.83]\n",
    "Algorithm B: [0.78, 0.82, 0.84, 0.80, 0.79]\n",
    "Algorithm C: [0.90, 0.88, 0.89, 0.86, 0.87]\n",
    "Perform a Kruskal-Wallis test to determine if there is a significant difference in the median\n",
    "accuracy scores between the algorithms."
   ]
  },
  {
   "cell_type": "code",
   "execution_count": 32,
   "metadata": {},
   "outputs": [
    {
     "name": "stdout",
     "output_type": "stream",
     "text": [
      "H-statistic: 9.696947935368053\n",
      "P-value: 0.007840333026249539\n"
     ]
    }
   ],
   "source": [
    "Algorithm_A=[0.85, 0.80, 0.82, 0.87, 0.83]\n",
    "Algorithm_B= [0.78, 0.82, 0.84, 0.80, 0.79]\n",
    "Algorithm_C= [0.90, 0.88, 0.89, 0.86, 0.87]\n",
    "\n",
    "# Perform Kruskal-Wallis test\n",
    "h_statistic, p_value = stats.kruskal(Algorithm_A, Algorithm_B, Algorithm_C)\n",
    "\n",
    "# Print the results\n",
    "print(\"H-statistic:\", h_statistic)\n",
    "print(\"P-value:\", p_value)"
   ]
  },
  {
   "cell_type": "markdown",
   "metadata": {},
   "source": [
    "18. Scenario: A company wants to analyze the effect of price on sales. The data collected is as\n",
    "follows:\n",
    "Price (in dollars): [10, 15, 12, 8, 14]\n",
    "Sales: [100, 80, 90, 110, 95]\n",
    "Perform a simple linear regression to predict\n",
    "sales based on price."
   ]
  },
  {
   "cell_type": "code",
   "execution_count": 31,
   "metadata": {},
   "outputs": [
    {
     "name": "stdout",
     "output_type": "stream",
     "text": [
      "Price: $ 18 Predicted Sales: 73.26219512195122\n",
      "Price: $ 20 Predicted Sales: 66.25\n"
     ]
    }
   ],
   "source": [
    "from sklearn.linear_model import LinearRegression\n",
    "\n",
    "price = [10, 15, 12, 8, 14]\n",
    "sales = [100, 80, 90, 110, 95]\n",
    "\n",
    "model = LinearRegression()             # Create and fit the linear regression model\n",
    "model.fit([[p] for p in price], sales)\n",
    "\n",
    "test_price = [18, 20]            # Test data for prediction\n",
    "\n",
    "predicted_sales = model.predict([[p] for p in test_price])   # Make predictions\n",
    "\n",
    "for p, s in zip(test_price, predicted_sales):           # Print the predictions\n",
    "    print(\"Price: $\", p, \"Predicted Sales:\", s)\n"
   ]
  },
  {
   "cell_type": "markdown",
   "metadata": {},
   "source": [
    "19. Scenario: A survey is conducted to measure the satisfaction levels of customers with a new\n",
    "product. The data collected is as follows:\n",
    "[7, 8, 9, 6, 8, 7, 9, 7, 8, 7]\n",
    "Calculate the standard error of the mean satisfaction score."
   ]
  },
  {
   "cell_type": "code",
   "execution_count": 29,
   "metadata": {},
   "outputs": [
    {
     "name": "stdout",
     "output_type": "stream",
     "text": [
      "standard error of the mean satisfaction score is: 0.28982753492378877\n"
     ]
    }
   ],
   "source": [
    "Customer=[7, 8, 9, 6, 8, 7, 9, 7, 8, 7]\n",
    "SE= np.std(Customer)\n",
    "N = len(Customer)\n",
    "STANDAR_ERROR = SE/np.sqrt(N)\n",
    "print(\"standard error of the mean satisfaction score is:\",STANDAR_ERROR)"
   ]
  },
  {
   "cell_type": "markdown",
   "metadata": {},
   "source": [
    "20. Scenario: A company wants to analyze the relationship between advertising expenditure\n",
    "and sales. The data collected is as follows:\n",
    "Advertising Expenditure (in thousands): [10, 15, 12, 8, 14]\n",
    "Sales (in thousands): [25, 30, 28, 20, 26]\n",
    "Perform a multiple regression analysis to predict sales based on advertising expenditure."
   ]
  },
  {
   "cell_type": "code",
   "execution_count": 28,
   "metadata": {},
   "outputs": [
    {
     "name": "stdout",
     "output_type": "stream",
     "text": [
      "                            OLS Regression Results                            \n",
      "==============================================================================\n",
      "Dep. Variable:                  Sales   R-squared:                       0.767\n",
      "Model:                            OLS   Adj. R-squared:                  0.689\n",
      "Method:                 Least Squares   F-statistic:                     9.872\n",
      "Date:                Tue, 11 Jul 2023   Prob (F-statistic):             0.0516\n",
      "Time:                        00:08:40   Log-Likelihood:                -9.5288\n",
      "No. Observations:                   5   AIC:                             23.06\n",
      "Df Residuals:                       3   BIC:                             22.28\n",
      "Df Model:                           1                                         \n",
      "Covariance Type:            nonrobust                                         \n",
      "===========================================================================================\n",
      "                              coef    std err          t      P>|t|      [0.025      0.975]\n",
      "-------------------------------------------------------------------------------------------\n",
      "const                      12.2012      4.429      2.755      0.070      -1.893      26.296\n",
      "Advertising_Expenditure     1.1524      0.367      3.142      0.052      -0.015       2.320\n",
      "==============================================================================\n",
      "Omnibus:                          nan   Durbin-Watson:                   1.136\n",
      "Prob(Omnibus):                    nan   Jarque-Bera (JB):                0.546\n",
      "Skew:                          -0.267   Prob(JB):                        0.761\n",
      "Kurtosis:                       1.471   Cond. No.                         57.3\n",
      "==============================================================================\n",
      "\n",
      "Notes:\n",
      "[1] Standard Errors assume that the covariance matrix of the errors is correctly specified.\n"
     ]
    },
    {
     "name": "stderr",
     "output_type": "stream",
     "text": [
      "c:\\Users\\DINESHASHUTOSH\\AppData\\Local\\Programs\\Python\\Python39\\lib\\site-packages\\statsmodels\\stats\\stattools.py:74: ValueWarning: omni_normtest is not valid with less than 8 observations; 5 samples were given.\n",
      "  warn(\"omni_normtest is not valid with less than 8 observations; %i \"\n"
     ]
    }
   ],
   "source": [
    "import statsmodels.api as sm\n",
    "import pandas as pd\n",
    "Advertising_Expenditure=[10, 15, 12, 8, 14]\n",
    "Sales=[25, 30, 28, 20, 26]\n",
    "\n",
    "data= pd.DataFrame({'Advertising_Expenditure': Advertising_Expenditure,'Sales':Sales})  # Create a DataFrame with the data\n",
    "data_with_constant = sm.add_constant(data)          # Add a constant column for the intercept\n",
    "\n",
    "# Perform multiple regression analysis\n",
    "model = sm.OLS(data_with_constant['Sales'], data_with_constant[['const', 'Advertising_Expenditure']])\n",
    "results = model.fit()\n",
    "\n",
    "print(results.summary())"
   ]
  }
 ],
 "metadata": {
  "language_info": {
   "name": "python"
  },
  "orig_nbformat": 4
 },
 "nbformat": 4,
 "nbformat_minor": 2
}
