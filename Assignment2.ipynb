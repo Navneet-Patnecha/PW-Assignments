{
 "cells": [
  {
   "attachments": {},
   "cell_type": "markdown",
   "metadata": {},
   "source": [
    "# 1. Write a Python program to reverse a string without using any built-in string reversal functions.\n",
    "    "
   ]
  },
  {
   "cell_type": "code",
   "execution_count": 1,
   "metadata": {},
   "outputs": [
    {
     "name": "stdout",
     "output_type": "stream",
     "text": [
      "uoy era woh ih\n"
     ]
    }
   ],
   "source": [
    "def a(string):\n",
    "    reversed_string=''\n",
    "    for i in range(len(string)-1, -1, -1):\n",
    "        reversed_string +=string[i]\n",
    "    return reversed_string\n",
    "\n",
    "input_string = \"hi how are you\"\n",
    "reversed_string= a(input_string)\n",
    "print(reversed_string)"
   ]
  },
  {
   "attachments": {},
   "cell_type": "markdown",
   "metadata": {},
   "source": [
    "# 2. Implement a function to check if a given string is a palindrome.\n",
    "    "
   ]
  },
  {
   "cell_type": "code",
   "execution_count": 57,
   "metadata": {},
   "outputs": [
    {
     "name": "stdout",
     "output_type": "stream",
     "text": [
      "True\n",
      "True\n",
      "False\n"
     ]
    }
   ],
   "source": [
    "def is_palindrome(s):\n",
    "    # Remove any non-alphanumeric characters and convert to lowercase\n",
    "    s = ''.join(c.lower() for c in s if c.isalnum())\n",
    "    return s == s[::-1]\n",
    "print(is_palindrome(\"A man, a plan, a canal: Panama\"))  \n",
    "print(is_palindrome(\"racecar\"))  \n",
    "print(is_palindrome(\"hello world\"))  \n"
   ]
  },
  {
   "attachments": {},
   "cell_type": "markdown",
   "metadata": {},
   "source": [
    "# 3. Write a program to find the largest element in a given list.\n",
    "    "
   ]
  },
  {
   "cell_type": "code",
   "execution_count": 3,
   "metadata": {},
   "outputs": [
    {
     "name": "stdout",
     "output_type": "stream",
     "text": [
      "20\n"
     ]
    }
   ],
   "source": [
    "n=[10,5,20,9,17]\n",
    "def find_largest_element(lst):\n",
    "    largest = lst[0]\n",
    "    for i in lst:\n",
    "        if i > largest:\n",
    "            largest = i\n",
    "    return largest\n",
    "largest_number=find_largest_element(n)\n",
    "print(largest_number)"
   ]
  },
  {
   "attachments": {},
   "cell_type": "markdown",
   "metadata": {},
   "source": [
    "# 4. Implement a function to count the occurrence of each element in a list."
   ]
  },
  {
   "cell_type": "code",
   "execution_count": 4,
   "metadata": {},
   "outputs": [
    {
     "name": "stdout",
     "output_type": "stream",
     "text": [
      "{1: 3, 2: 3, 3: 3, 4: 3, 5: 1, 6: 2, 7: 1, 8: 1, 9: 2}\n"
     ]
    }
   ],
   "source": [
    "def coun_occurrences(lst):\n",
    "    counts = {}\n",
    "    for item in lst:\n",
    "        if item in counts:\n",
    "            counts[item] += 1\n",
    "        else:\n",
    "            counts[item] = 1\n",
    "    return counts\n",
    "\n",
    "n= [1,2,3,4,5,6,7,8,9,4,3,2,1,3,2,1,4,9,6,]\n",
    "occurrence_count = coun_occurrences(n)\n",
    "print(occurrence_count)"
   ]
  },
  {
   "attachments": {},
   "cell_type": "markdown",
   "metadata": {},
   "source": [
    "# 5. Write a Python program to find the second largest number in a list.\n",
    "   "
   ]
  },
  {
   "cell_type": "code",
   "execution_count": 5,
   "metadata": {},
   "outputs": [
    {
     "name": "stdout",
     "output_type": "stream",
     "text": [
      "19\n"
     ]
    }
   ],
   "source": [
    "def find_second_largest (lst):\n",
    "    largest = lst[0]\n",
    "    second_largest = float('-inf')\n",
    "    for num in lst:\n",
    "        if num> largest:\n",
    "            second_largest = largest\n",
    "            largest = num\n",
    "        elif num > second_largest and num < largest:\n",
    "            second_largest = num\n",
    "    return second_largest\n",
    "\n",
    "n= [10,16,5,1,8,25,19]\n",
    "second_largest_number=find_second_largest(n)\n",
    "print(second_largest_number)"
   ]
  },
  {
   "attachments": {},
   "cell_type": "markdown",
   "metadata": {},
   "source": [
    "# 6. Implement a function to remove duplicate elements from a list.\n",
    "    "
   ]
  },
  {
   "cell_type": "code",
   "execution_count": 6,
   "metadata": {},
   "outputs": [
    {
     "name": "stdout",
     "output_type": "stream",
     "text": [
      "[1, 2, 3, 4]\n"
     ]
    }
   ],
   "source": [
    "def remove_duplicate(lst):\n",
    "    return list(set(lst))\n",
    "\n",
    "a = [1, 2, 3, 2, 1, 3, 3, 4, 4, 4]\n",
    "unique_numbers = remove_duplicate(a)\n",
    "print(unique_numbers)"
   ]
  },
  {
   "attachments": {},
   "cell_type": "markdown",
   "metadata": {},
   "source": [
    "# 7. Write a program to calculate the factorial of a given number."
   ]
  },
  {
   "cell_type": "code",
   "execution_count": 7,
   "metadata": {},
   "outputs": [
    {
     "name": "stdout",
     "output_type": "stream",
     "text": [
      "40320\n"
     ]
    }
   ],
   "source": [
    "def factorial(n):\n",
    "    if n==0 or n ==1:\n",
    "        return 1\n",
    "    else: return n * factorial(n-1)\n",
    "\n",
    "e = 8\n",
    "result = factorial(e)\n",
    "print(result)"
   ]
  },
  {
   "attachments": {},
   "cell_type": "markdown",
   "metadata": {},
   "source": [
    "# 8. Implement a function to check if a given number is prime.\n",
    "    "
   ]
  },
  {
   "cell_type": "code",
   "execution_count": 8,
   "metadata": {},
   "outputs": [
    {
     "name": "stdout",
     "output_type": "stream",
     "text": [
      "its is prime number\n"
     ]
    }
   ],
   "source": [
    "def is_prime(n):\n",
    "    if n < 2:\n",
    "        return False\n",
    "    for i in range(2,int(n**0.5) +1):\n",
    "        if n % i ==0:\n",
    "            return False\n",
    "    return True\n",
    "\n",
    "e =17\n",
    "if is_prime(e):\n",
    "    print(\"its is prime number\")\n",
    "else:\n",
    "    print(\"its not prime number\")"
   ]
  },
  {
   "attachments": {},
   "cell_type": "markdown",
   "metadata": {},
   "source": [
    "# 9. Write a Python program to sort a list of integers in ascending order.\n",
    "    "
   ]
  },
  {
   "cell_type": "code",
   "execution_count": 9,
   "metadata": {},
   "outputs": [
    {
     "name": "stdout",
     "output_type": "stream",
     "text": [
      "[1, 2, 2, 3, 5, 5, 8, 9]\n"
     ]
    }
   ],
   "source": [
    "def sort_lst(lst):\n",
    "    return sorted(lst)\n",
    "n = [5,2,3,1,5,8,9,2]\n",
    "sorted_numbers = sort_lst(n)\n",
    "print(sorted_numbers)"
   ]
  },
  {
   "attachments": {},
   "cell_type": "markdown",
   "metadata": {},
   "source": [
    "# 10. Implement a function to find the sum of all numbers in a list.\n",
    "    "
   ]
  },
  {
   "cell_type": "code",
   "execution_count": 10,
   "metadata": {},
   "outputs": [
    {
     "name": "stdout",
     "output_type": "stream",
     "text": [
      "28\n"
     ]
    }
   ],
   "source": [
    "def find_sum(lst):\n",
    "    total = 0\n",
    "    for num in lst:\n",
    "        total +=num\n",
    "    return total\n",
    "\n",
    "n = [1,2,3,4,5,6,7]\n",
    "sum_of_numbers = find_sum(n)\n",
    "print(sum_of_numbers)"
   ]
  },
  {
   "attachments": {},
   "cell_type": "markdown",
   "metadata": {},
   "source": [
    "# 11. Write a program to find the common elements between two lists.\n",
    "    "
   ]
  },
  {
   "cell_type": "code",
   "execution_count": 11,
   "metadata": {},
   "outputs": [
    {
     "name": "stdout",
     "output_type": "stream",
     "text": [
      "[4, 5]\n"
     ]
    }
   ],
   "source": [
    "def comman_lst(list1, list2):\n",
    "    comman_list = []\n",
    "    for element in list1:\n",
    "        if element in list2:\n",
    "            comman_list.append(element)\n",
    "    return comman_list\n",
    "\n",
    "list1=[1,2,3,4,5]\n",
    "list2=[4,5,6,7,8]\n",
    "comman_elemnts = comman_lst(list1, list2)\n",
    "print(comman_elemnts)"
   ]
  },
  {
   "attachments": {},
   "cell_type": "markdown",
   "metadata": {},
   "source": [
    "# 12. Implement a function to check if a given string is an anagram of another string.\n",
    "    "
   ]
  },
  {
   "cell_type": "code",
   "execution_count": 12,
   "metadata": {},
   "outputs": [
    {
     "name": "stdout",
     "output_type": "stream",
     "text": [
      "They are anagrams\n"
     ]
    }
   ],
   "source": [
    "def is_anagram(str1, str2):\n",
    "    str1 = str1.lower()\n",
    "    str2 = str2.lower()\n",
    "    return sorted(str1) == sorted(str2)\n",
    "\n",
    "string1 = 'listen'\n",
    "string2 = 'silent'\n",
    "if is_anagram(string1,string2):\n",
    "    print(\"They are anagrams\")\n",
    "else:\n",
    "    print(\"They are not anagrams\")"
   ]
  },
  {
   "attachments": {},
   "cell_type": "markdown",
   "metadata": {},
   "source": [
    "# 13. Write a Python program to generate all permutations of a given string.\n",
    "    "
   ]
  },
  {
   "cell_type": "code",
   "execution_count": 13,
   "metadata": {},
   "outputs": [
    {
     "name": "stdout",
     "output_type": "stream",
     "text": [
      "['ASHU', 'ASUH', 'AHSU', 'AHUS', 'AUSH', 'AUHS', 'SAHU', 'SAUH', 'SHAU', 'SHUA', 'SUAH', 'SUHA', 'HASU', 'HAUS', 'HSAU', 'HSUA', 'HUAS', 'HUSA', 'UASH', 'UAHS', 'USAH', 'USHA', 'UHAS', 'UHSA']\n"
     ]
    }
   ],
   "source": [
    "from itertools import permutations\n",
    "\n",
    "def generate_permutations(string):\n",
    "    perms =[''.join(p) for p in permutations(string)]\n",
    "    return perms\n",
    "\n",
    "input_string = \"ASHU\"\n",
    "permutations = generate_permutations(input_string)\n",
    "print(permutations)"
   ]
  },
  {
   "attachments": {},
   "cell_type": "markdown",
   "metadata": {},
   "source": [
    "# 14. Implement a function to calculate the Fibonacci sequence up to a given number of terms.\n",
    "    "
   ]
  },
  {
   "cell_type": "code",
   "execution_count": 14,
   "metadata": {},
   "outputs": [
    {
     "name": "stdout",
     "output_type": "stream",
     "text": [
      "[0, 1, 1, 2, 3, 5, 8, 13, 21, 34]\n"
     ]
    }
   ],
   "source": [
    "def fibonacci(n):\n",
    "    sequence = []\n",
    "    if n >= 1:\n",
    "        sequence.append(0)\n",
    "    if n >=2:\n",
    "        sequence.append(1)\n",
    "    for i in range(2,n):\n",
    "        sequence.append(sequence[i-1] + sequence[i-2])\n",
    "    return sequence\n",
    "\n",
    "terms = 10\n",
    "fib_sequence = fibonacci(terms)\n",
    "print(fib_sequence)\n",
    "\n",
    "        "
   ]
  },
  {
   "attachments": {},
   "cell_type": "markdown",
   "metadata": {},
   "source": [
    "# 15. Write a program to find the median of a list of numbers."
   ]
  },
  {
   "cell_type": "code",
   "execution_count": 15,
   "metadata": {},
   "outputs": [
    {
     "name": "stdout",
     "output_type": "stream",
     "text": [
      "4\n"
     ]
    }
   ],
   "source": [
    "def find_median(lst):\n",
    "    sorted_list = sorted(lst)\n",
    "    n = len(sorted_list)\n",
    "    if n % 2 == 1:\n",
    "        return sorted_list[n // 2]\n",
    "    else:\n",
    "        mid1 = sorted_list[n // 2 -1]\n",
    "        mid2 = sorted_list[n // 2]\n",
    "        return (mid1 + mid2) / 2\n",
    "    \n",
    "numbers = [3,1,7,5,4]\n",
    "median = find_median(numbers)\n",
    "print(median)"
   ]
  },
  {
   "attachments": {},
   "cell_type": "markdown",
   "metadata": {},
   "source": [
    "# 16. Implement a function to check if a given list is sorted in non-decreasing order.\n",
    "    "
   ]
  },
  {
   "cell_type": "code",
   "execution_count": 16,
   "metadata": {},
   "outputs": [
    {
     "name": "stdout",
     "output_type": "stream",
     "text": [
      "The list is not sorted\n"
     ]
    }
   ],
   "source": [
    "def is_sorted(lst):\n",
    "    return all(lst[i] <= lst[i+1] for i in range(len(lst)-1))\n",
    "\n",
    "numbers1 = [1,2,3,4,5]\n",
    "numbers2 = [7,2,9,5,6]\n",
    "if is_sorted(numbers2):\n",
    "    print(\"The list is sorted\")\n",
    "else:\n",
    "    print(\"The list is not sorted\")"
   ]
  },
  {
   "attachments": {},
   "cell_type": "markdown",
   "metadata": {},
   "source": [
    "# 17. Write a Python program to find the intersection of two lists.\n",
    "    "
   ]
  },
  {
   "cell_type": "code",
   "execution_count": 17,
   "metadata": {},
   "outputs": [
    {
     "name": "stdout",
     "output_type": "stream",
     "text": [
      "[5, 6]\n"
     ]
    }
   ],
   "source": [
    "def find_intersection(list1, list2):\n",
    "    return list(set(list1) & set(list2))\n",
    "\n",
    "list1 = [1,2,3,4,5,6]\n",
    "list2 = [5,6,7,8,9,10]\n",
    "\n",
    "intersection = find_intersection(list1, list2)\n",
    "print(intersection)"
   ]
  },
  {
   "attachments": {},
   "cell_type": "markdown",
   "metadata": {},
   "source": [
    "# 18. Implement a function to find the maximum subarray sum in a given list.\n",
    "    "
   ]
  },
  {
   "cell_type": "code",
   "execution_count": 18,
   "metadata": {},
   "outputs": [
    {
     "name": "stdout",
     "output_type": "stream",
     "text": [
      "8\n"
     ]
    }
   ],
   "source": [
    "def find_maximum_subarray_sum(lst):\n",
    "    max_sum = current_sum = lst[0]\n",
    "    for num in lst[1:]:\n",
    "        current_sum = max(num, current_sum + num)\n",
    "        max_sum = max(max_sum, current_sum)\n",
    "    return max_sum\n",
    "\n",
    "\n",
    "numbers = [1, -2, 3, 4, -1, 2, -6, 5]\n",
    "maximum_sum = find_maximum_subarray_sum(numbers)\n",
    "print(maximum_sum)  "
   ]
  },
  {
   "attachments": {},
   "cell_type": "markdown",
   "metadata": {},
   "source": [
    "# 19. Write a program to remove all vowels from a given string.\n",
    "    "
   ]
  },
  {
   "cell_type": "code",
   "execution_count": 19,
   "metadata": {},
   "outputs": [
    {
     "name": "stdout",
     "output_type": "stream",
     "text": [
      "SHTSH MRY\n"
     ]
    }
   ],
   "source": [
    "def remove_vowels(string):\n",
    "    vowels = 'aeiouAEIOU'\n",
    "    return ''.join(char for char in string if char not in vowels)\n",
    "\n",
    "input_string = 'ASHUTOSH MAURYA'\n",
    "string_without_vowels = remove_vowels(input_string)\n",
    "print(string_without_vowels)"
   ]
  },
  {
   "attachments": {},
   "cell_type": "markdown",
   "metadata": {},
   "source": [
    "# 20. Implement a function to reverse the order of words in a given sentence.\n",
    "    "
   ]
  },
  {
   "cell_type": "code",
   "execution_count": 20,
   "metadata": {},
   "outputs": [
    {
     "name": "stdout",
     "output_type": "stream",
     "text": [
      "MAURYAASHUTOSH\n"
     ]
    }
   ],
   "source": [
    "def reverse_sentences(sentence):\n",
    "    words = sentence.split()\n",
    "    reversed_words = ''.join(reversed(words))\n",
    "    return reversed_words\n",
    "\n",
    "input_sentence = \"ASHUTOSH MAURYA\"\n",
    "reverse_sentences = reverse_sentences(input_sentence)\n",
    "print(reverse_sentences)"
   ]
  },
  {
   "attachments": {},
   "cell_type": "markdown",
   "metadata": {},
   "source": [
    "# 21. Write a Python program to check if two strings are anagrams of each other.\n",
    "    "
   ]
  },
  {
   "cell_type": "code",
   "execution_count": 21,
   "metadata": {},
   "outputs": [
    {
     "name": "stdout",
     "output_type": "stream",
     "text": [
      "They are anagrams. \n"
     ]
    }
   ],
   "source": [
    "def are_anagrams(str1, str2):\n",
    "    str1 = str1.lower()\n",
    "    str2 = str2.lower()\n",
    "    return sorted(str1) == sorted(str2)\n",
    "\n",
    "string1 = \"listen\"\n",
    "string2 = \"silent\"\n",
    "if are_anagrams(string1, string2):\n",
    "    print(\"They are anagrams. \")   \n",
    "else:\n",
    "    print(\"They are not anagrams. \") "
   ]
  },
  {
   "attachments": {},
   "cell_type": "markdown",
   "metadata": {},
   "source": [
    "# 22. Implement a function to find the first non-repeating character in a string.\n",
    "    "
   ]
  },
  {
   "cell_type": "code",
   "execution_count": 22,
   "metadata": {},
   "outputs": [
    {
     "name": "stdout",
     "output_type": "stream",
     "text": [
      "b\n"
     ]
    }
   ],
   "source": [
    "def non_repeating_char(string):\n",
    "    char_counts = {}\n",
    "    for char in string:\n",
    "        if char in char_counts:\n",
    "            char_counts[char] +=1\n",
    "        else:\n",
    "            char_counts[char] = 1\n",
    "    for char in string:\n",
    "        if char_counts[char] ==1:\n",
    "            return char\n",
    "        \n",
    "    return None\n",
    "\n",
    "input_string = \"abaccadd\"\n",
    "non_repeating_char = non_repeating_char(input_string)\n",
    "print(non_repeating_char)"
   ]
  },
  {
   "attachments": {},
   "cell_type": "markdown",
   "metadata": {},
   "source": [
    "# 23. Write a program to find the prime factors of a given number."
   ]
  },
  {
   "cell_type": "code",
   "execution_count": 23,
   "metadata": {},
   "outputs": [
    {
     "name": "stdout",
     "output_type": "stream",
     "text": [
      "[3, 13]\n"
     ]
    }
   ],
   "source": [
    "def find_prime_factores(n):\n",
    "    factors = []\n",
    "    divisor = 2\n",
    "    while divisor <= n:\n",
    "        if n % divisor == 0:\n",
    "            factors.append(divisor)\n",
    "            n = n / divisor\n",
    "        else:\n",
    "            divisor +=1\n",
    "    return factors\n",
    "\n",
    "numbers = 39\n",
    "prime_factors = find_prime_factores(numbers)\n",
    "print(prime_factors)"
   ]
  },
  {
   "attachments": {},
   "cell_type": "markdown",
   "metadata": {},
   "source": [
    "# 24. Implement a function to check if a given number is a power of two.\n",
    "    "
   ]
  },
  {
   "cell_type": "code",
   "execution_count": 24,
   "metadata": {},
   "outputs": [
    {
     "name": "stdout",
     "output_type": "stream",
     "text": [
      "It is a power of two.\n"
     ]
    }
   ],
   "source": [
    "def is_power_of_two(n):\n",
    "    if n <= 0:\n",
    "        return False\n",
    "    return (n & (n - 1)) == 0\n",
    "\n",
    "\n",
    "number = 16\n",
    "if is_power_of_two(number):\n",
    "    print(\"It is a power of two.\")\n",
    "else:\n",
    "    print(\"It is not a power of two.\")\n"
   ]
  },
  {
   "attachments": {},
   "cell_type": "markdown",
   "metadata": {},
   "source": [
    "# 25. Write a Python program to merge two sorted lists into a single sorted list.\n",
    "    "
   ]
  },
  {
   "cell_type": "code",
   "execution_count": 25,
   "metadata": {},
   "outputs": [
    {
     "name": "stdout",
     "output_type": "stream",
     "text": [
      "[1, 2, 3, 4, 5, 6]\n"
     ]
    }
   ],
   "source": [
    "def merge_sorted_lists(list1, list2):\n",
    "    merged_list = []\n",
    "    i = j = 0\n",
    "    while i < len(list1) and j < len(list2):\n",
    "        if list1[i] <= list2[j]:\n",
    "            merged_list.append(list1[i])\n",
    "            i += 1\n",
    "        else:\n",
    "            merged_list.append(list2[j])\n",
    "            j += 1\n",
    "    merged_list.extend(list1[i:])\n",
    "    merged_list.extend(list2[j:])\n",
    "    return merged_list\n",
    "\n",
    "\n",
    "list1 = [1, 3, 5]\n",
    "list2 = [2, 4, 6]\n",
    "merged_list = merge_sorted_lists(list1, list2)\n",
    "print(merged_list)  \n"
   ]
  },
  {
   "attachments": {},
   "cell_type": "markdown",
   "metadata": {},
   "source": [
    "# 26. Implement a function to find the mode of a list of numbers."
   ]
  },
  {
   "cell_type": "code",
   "execution_count": 26,
   "metadata": {},
   "outputs": [
    {
     "name": "stdout",
     "output_type": "stream",
     "text": [
      "[3, 4]\n"
     ]
    }
   ],
   "source": [
    "from collections import Counter\n",
    "\n",
    "def find_mode(lst):\n",
    "    counts = Counter(lst)\n",
    "    max_count = max(counts.values())\n",
    "    modes = [num for num, count in counts.items() if count == max_count]\n",
    "    return modes\n",
    "\n",
    "n=[1,2,3,2,1,3,3,4,4,4]\n",
    "mode = find_mode(n)\n",
    "print(mode)"
   ]
  },
  {
   "attachments": {},
   "cell_type": "markdown",
   "metadata": {},
   "source": [
    "# 27. Write a program to find the greatest common divisor (GCD) of two numbers.\n",
    "    "
   ]
  },
  {
   "cell_type": "code",
   "execution_count": 27,
   "metadata": {},
   "outputs": [
    {
     "name": "stdout",
     "output_type": "stream",
     "text": [
      "12\n"
     ]
    }
   ],
   "source": [
    "def find_GCD(a,b):\n",
    "    while b != 0:\n",
    "        a, b = b, a%b\n",
    "\n",
    "    return a\n",
    "num1 = 24\n",
    "num2 = 36\n",
    "GCD = find_GCD(num1,num2)\n",
    "print(GCD)"
   ]
  },
  {
   "attachments": {},
   "cell_type": "markdown",
   "metadata": {},
   "source": [
    "# 28. Implement a function to calculate the square root of a given number.\n",
    "   "
   ]
  },
  {
   "cell_type": "code",
   "execution_count": 28,
   "metadata": {},
   "outputs": [
    {
     "name": "stdout",
     "output_type": "stream",
     "text": [
      "3.0\n"
     ]
    }
   ],
   "source": [
    "def square_root(n):\n",
    "    if n < 0:\n",
    "        raise ValueError(\"Square root is not defined for negative numbers.\")\n",
    "    if n == 0:\n",
    "        return 0\n",
    "    guess = n/2\n",
    "    while True:\n",
    "        new_guess = (guess + n / guess) / 2\n",
    "        if abs(guess - new_guess) < 0.00001:\n",
    "            return new_guess\n",
    "        guess = new_guess\n",
    "\n",
    "n = 9\n",
    "sqrt = square_root(n)\n",
    "print(sqrt)"
   ]
  },
  {
   "attachments": {},
   "cell_type": "markdown",
   "metadata": {},
   "source": [
    "#  29. Write a Python program to check if a given string is a valid palindrome ignoring non-alphanumeric characters.\n",
    "    "
   ]
  },
  {
   "cell_type": "code",
   "execution_count": 29,
   "metadata": {},
   "outputs": [
    {
     "name": "stdout",
     "output_type": "stream",
     "text": [
      "It is a valid palindrome\n"
     ]
    }
   ],
   "source": [
    "import re\n",
    "\n",
    "def is_palindrome(string):\n",
    "    string = re.sub(r'[^a-zA-Z0-9]', '', string)\n",
    "    string = string.lower()\n",
    "    return string == string[::-1]\n",
    "\n",
    "input_string = \"A man, a plan, a canal:Panama\"\n",
    "if is_palindrome(input_string):\n",
    "    print(\"It is a valid palindrome\")\n",
    "else:\n",
    "    print(\"It is not a valid palindrome\")\n",
    "    "
   ]
  },
  {
   "attachments": {},
   "cell_type": "markdown",
   "metadata": {},
   "source": [
    "# 30. Implement a function to find the minimum element in a rotated sorted list."
   ]
  },
  {
   "cell_type": "code",
   "execution_count": 30,
   "metadata": {},
   "outputs": [
    {
     "name": "stdout",
     "output_type": "stream",
     "text": [
      "0\n"
     ]
    }
   ],
   "source": [
    "def rotated_list(lst):\n",
    "    left = 0\n",
    "    right = len(lst) - 1\n",
    "    while left < right:\n",
    "        mid = (left + right) // 2\n",
    "        if lst[mid] > lst[right]:\n",
    "            left = mid +1\n",
    "        else:\n",
    "            right = mid\n",
    "        return lst[left]\n",
    "    \n",
    "rotated_list1 = [4, 5, 6, 7, 0 , 1, 2]\n",
    "min_element = rotated_list(rotated_list1)\n",
    "print(min_element)"
   ]
  },
  {
   "attachments": {},
   "cell_type": "markdown",
   "metadata": {},
   "source": [
    "# 31. Write a program to find the sum of all even numbers in a list.\n"
   ]
  },
  {
   "cell_type": "code",
   "execution_count": 31,
   "metadata": {},
   "outputs": [
    {
     "name": "stdout",
     "output_type": "stream",
     "text": [
      "30\n"
     ]
    }
   ],
   "source": [
    "def sum_of_even_numbers(lst):\n",
    "    return sum(num for num in lst if num % 2 == 0)\n",
    "\n",
    "n = [1,2,3,4,5,6,7,8,9,10]\n",
    "sum_even = sum_of_even_numbers(n)\n",
    "print(sum_even)"
   ]
  },
  {
   "attachments": {},
   "cell_type": "markdown",
   "metadata": {},
   "source": [
    "# 32. Implement a function to calculate the power of a number using recursion.\n"
   ]
  },
  {
   "cell_type": "code",
   "execution_count": 32,
   "metadata": {},
   "outputs": [
    {
     "name": "stdout",
     "output_type": "stream",
     "text": [
      "8\n"
     ]
    }
   ],
   "source": [
    "def power(base , exponent):\n",
    "    if exponent == 0:\n",
    "        return 1\n",
    "    elif exponent < 0:\n",
    "        return 1/ power(base, -exponent)\n",
    "    else:\n",
    "        return base * power(base, exponent-1)\n",
    "    \n",
    "base = 2\n",
    "exponent = 3\n",
    "result = power(base, exponent)\n",
    "print(result)"
   ]
  },
  {
   "attachments": {},
   "cell_type": "markdown",
   "metadata": {},
   "source": [
    "# 33. Write a Python program to remove duplicates from a list while preserving the order.\n"
   ]
  },
  {
   "cell_type": "code",
   "execution_count": 33,
   "metadata": {},
   "outputs": [
    {
     "name": "stdout",
     "output_type": "stream",
     "text": [
      "[1, 2, 3, 4]\n"
     ]
    }
   ],
   "source": [
    "def remove_duplicates(lst):\n",
    "    unique_list = []\n",
    "    seen = set()\n",
    "    for item in lst:\n",
    "        if item not in seen:\n",
    "            unique_list.append(item)\n",
    "            seen.add(item)\n",
    "    return unique_list\n",
    "\n",
    "\n",
    "numbers = [1, 2, 3, 2, 1, 3, 3, 4, 4, 4]\n",
    "unique_numbers = remove_duplicates(numbers)\n",
    "print(unique_numbers)  "
   ]
  },
  {
   "attachments": {},
   "cell_type": "markdown",
   "metadata": {},
   "source": [
    "# 34. Implement a function to find the longest common prefix among a list of strings.\n"
   ]
  },
  {
   "cell_type": "code",
   "execution_count": 34,
   "metadata": {},
   "outputs": [
    {
     "name": "stdout",
     "output_type": "stream",
     "text": [
      "fl\n"
     ]
    }
   ],
   "source": [
    "def longest_common_prefix(strings):\n",
    "    if not strings:\n",
    "        return \"\"\n",
    "    shortest_string = min(strings, key=len)\n",
    "    for i, char in enumerate(shortest_string):\n",
    "        for string in strings:\n",
    "            if string[i] != char:\n",
    "                return shortest_string[:i]\n",
    "    return shortest_string\n",
    "\n",
    "\n",
    "strings = [\"flower\", \"flow\", \"flight\"]\n",
    "common_prefix = longest_common_prefix(strings)\n",
    "print(common_prefix)  \n"
   ]
  },
  {
   "attachments": {},
   "cell_type": "markdown",
   "metadata": {},
   "source": [
    "# 35. Write a program to check if a given number is a perfect square.\n"
   ]
  },
  {
   "cell_type": "code",
   "execution_count": 35,
   "metadata": {},
   "outputs": [
    {
     "name": "stdout",
     "output_type": "stream",
     "text": [
      "It is a perfect square.\n"
     ]
    }
   ],
   "source": [
    "def is_perfect_square(number):\n",
    "    if number < 0:\n",
    "        return False\n",
    "    root = int(number ** 0.5)\n",
    "    return root * root == number\n",
    "\n",
    "\n",
    "\n",
    "number = 16\n",
    "if is_perfect_square(number):\n",
    "    print(\"It is a perfect square.\")\n",
    "else:\n",
    "    print(\"It is not a perfect square.\")"
   ]
  },
  {
   "attachments": {},
   "cell_type": "markdown",
   "metadata": {},
   "source": [
    "# 36. Implement a function to calculate the product of all elements in a list.\n"
   ]
  },
  {
   "cell_type": "code",
   "execution_count": 36,
   "metadata": {},
   "outputs": [
    {
     "name": "stdout",
     "output_type": "stream",
     "text": [
      "120\n"
     ]
    }
   ],
   "source": [
    "from functools import reduce\n",
    "import operator\n",
    "\n",
    "def product_of_elements(lst):\n",
    "    return reduce(operator.mul, lst, 1)\n",
    "\n",
    "\n",
    "numbers = [1, 2, 3, 4, 5]\n",
    "product = product_of_elements(numbers)\n",
    "print(product)\n"
   ]
  },
  {
   "attachments": {},
   "cell_type": "markdown",
   "metadata": {},
   "source": [
    "# 37. Write a Python program to reverse the order of words in a sentence while preserving the word order.\n"
   ]
  },
  {
   "cell_type": "code",
   "execution_count": 37,
   "metadata": {},
   "outputs": [
    {
     "name": "stdout",
     "output_type": "stream",
     "text": [
      "you? are how Hello,\n"
     ]
    }
   ],
   "source": [
    "def reverse_sentence_words(sentence):\n",
    "    words = sentence.split()\n",
    "    reversed_sentence = ' '.join(reversed(words))\n",
    "    return reversed_sentence\n",
    "\n",
    "\n",
    "input_sentence = \"Hello, how are you?\"\n",
    "reversed_sentence = reverse_sentence_words(input_sentence)\n",
    "print(reversed_sentence)  "
   ]
  },
  {
   "attachments": {},
   "cell_type": "markdown",
   "metadata": {},
   "source": [
    "# 38. Implement a function to find the missing number in a given list of consecutive numbers.\n"
   ]
  },
  {
   "cell_type": "code",
   "execution_count": 38,
   "metadata": {},
   "outputs": [
    {
     "name": "stdout",
     "output_type": "stream",
     "text": [
      "4\n"
     ]
    }
   ],
   "source": [
    "def find_missing_number(lst):\n",
    "    n = len(lst) + 1\n",
    "    expected_sum = n * (n + 1) // 2\n",
    "    actual_sum = sum(lst)\n",
    "    return expected_sum - actual_sum\n",
    "\n",
    "\n",
    "numbers = [1, 2, 3, 5, 6]\n",
    "missing_number = find_missing_number(numbers)\n",
    "print(missing_number) "
   ]
  },
  {
   "attachments": {},
   "cell_type": "markdown",
   "metadata": {},
   "source": [
    "# 39. Write a program to find the sum of digits of a given number."
   ]
  },
  {
   "cell_type": "code",
   "execution_count": 39,
   "metadata": {},
   "outputs": [
    {
     "name": "stdout",
     "output_type": "stream",
     "text": [
      "15\n"
     ]
    }
   ],
   "source": [
    "def sum_of_digits(number):\n",
    "    total = 0\n",
    "    for digit in str(number):\n",
    "        total += int(digit)\n",
    "    return total\n",
    "\n",
    "\n",
    "number = 12345\n",
    "digit_sum = sum_of_digits(number)\n",
    "print(digit_sum)  \n"
   ]
  },
  {
   "attachments": {},
   "cell_type": "markdown",
   "metadata": {},
   "source": [
    "# 40. Implement a function to check if a given string is a valid palindrome considering case sensitivity.\n"
   ]
  },
  {
   "cell_type": "code",
   "execution_count": 46,
   "metadata": {},
   "outputs": [
    {
     "name": "stdout",
     "output_type": "stream",
     "text": [
      "True\n",
      "True\n",
      "False\n"
     ]
    }
   ],
   "source": [
    "def is_valid_palindrome(string):\n",
    "    # Remove non-alphanumeric characters and convert to lowercase\n",
    "    cleaned_string = ''.join(char.lower() for char in string if char.isalnum())\n",
    "    return cleaned_string == cleaned_string[::-1]\n",
    "\n",
    "print(is_valid_palindrome(\"A man, a plan, a canal: Panama\"))  \n",
    "print(is_valid_palindrome(\"racecar\"))  \n",
    "print(is_valid_palindrome(\"hello world\"))  \n",
    "\n"
   ]
  },
  {
   "attachments": {},
   "cell_type": "markdown",
   "metadata": {},
   "source": [
    "# 41. Write a Python program to find the smallest missing positive integer in a list.\n"
   ]
  },
  {
   "cell_type": "code",
   "execution_count": 50,
   "metadata": {},
   "outputs": [
    {
     "name": "stdout",
     "output_type": "stream",
     "text": [
      "2\n",
      "3\n",
      "1\n"
     ]
    }
   ],
   "source": [
    "def smallest_missing(nums):\n",
    "    n = len(nums)\n",
    "    for i in range(n):\n",
    "                                                                             # Move the number to its correct position\n",
    "        while 0 < nums[i] <= n and nums[nums[i] - 1] != nums[i]:\n",
    "            nums[nums[i] - 1], nums[i] = nums[i], nums[nums[i] - 1]\n",
    "\n",
    "                                                                            # Find the first missing positive integer\n",
    "    for i in range(n):\n",
    "        if nums[i] != i + 1:\n",
    "            return i + 1\n",
    "\n",
    "                                                                            # All positive integers from 1 to n are present\n",
    "    return n + 1\n",
    "\n",
    "\n",
    "print(smallest_missing([3, 4, -1, 1]))  \n",
    "print(smallest_missing([1, 2, 0]))  \n",
    "print(smallest_missing([7, 8, 9, 11, 12])) \n"
   ]
  },
  {
   "attachments": {},
   "cell_type": "markdown",
   "metadata": {},
   "source": [
    "# 42. Implement a function to find the longest palindrome substring in a given string.\n"
   ]
  },
  {
   "cell_type": "code",
   "execution_count": 51,
   "metadata": {},
   "outputs": [
    {
     "name": "stdout",
     "output_type": "stream",
     "text": [
      "bab\n",
      "bb\n",
      "a\n"
     ]
    }
   ],
   "source": [
    "def longest_palindrome(s):\n",
    "    max_length = 0\n",
    "    start = 0\n",
    "\n",
    "    for i in range(len(s)):\n",
    "        # Check for odd-length palindromes\n",
    "        left = right = i\n",
    "        while left >= 0 and right < len(s) and s[left] == s[right]:\n",
    "            if right - left + 1 > max_length:\n",
    "                max_length = right - left + 1\n",
    "                start = left\n",
    "            left -= 1\n",
    "            right += 1\n",
    "\n",
    "        # Check for even-length palindromes\n",
    "        left = i\n",
    "        right = i + 1\n",
    "        while left >= 0 and right < len(s) and s[left] == s[right]:\n",
    "            if right - left + 1 > max_length:\n",
    "                max_length = right - left + 1\n",
    "                start = left\n",
    "            left -= 1\n",
    "            right += 1\n",
    "\n",
    "    return s[start:start + max_length]\n",
    "\n",
    "print(longest_palindrome(\"babad\"))  \n",
    "print(longest_palindrome(\"cbbd\"))  \n",
    "print(longest_palindrome(\"a\"))  \n"
   ]
  },
  {
   "attachments": {},
   "cell_type": "markdown",
   "metadata": {},
   "source": [
    "# 43. Write a program to find the number of occurrences of a given element in a list.\n"
   ]
  },
  {
   "cell_type": "code",
   "execution_count": 53,
   "metadata": {},
   "outputs": [
    {
     "name": "stdout",
     "output_type": "stream",
     "text": [
      "3\n"
     ]
    }
   ],
   "source": [
    "def count_occurrences(lst, element):\n",
    "    count = 0\n",
    "    for item in lst:\n",
    "        if item == element:\n",
    "            count += 1\n",
    "    return count\n",
    "n = [1,2,3,4,4,5,4]\n",
    "print(count_occurrences(n,4))\n"
   ]
  },
  {
   "attachments": {},
   "cell_type": "markdown",
   "metadata": {},
   "source": [
    "# 44. Implement a function to check if a given number is a perfect number.\n"
   ]
  },
  {
   "cell_type": "code",
   "execution_count": 54,
   "metadata": {},
   "outputs": [
    {
     "name": "stdout",
     "output_type": "stream",
     "text": [
      "True\n",
      "True\n",
      "False\n"
     ]
    }
   ],
   "source": [
    "def is_perfect_number(num):\n",
    "    if num <= 0:\n",
    "        return False\n",
    "\n",
    "    divisors = []\n",
    "    for i in range(1, num):\n",
    "        if num % i == 0:\n",
    "            divisors.append(i)\n",
    "\n",
    "    return sum(divisors) == num\n",
    "\n",
    "print(is_perfect_number(6))  \n",
    "print(is_perfect_number(28))  \n",
    "print(is_perfect_number(12))\n"
   ]
  },
  {
   "attachments": {},
   "cell_type": "markdown",
   "metadata": {},
   "source": [
    "# 45. Write a Python program to remove all duplicates from a string.\n"
   ]
  },
  {
   "cell_type": "code",
   "execution_count": 55,
   "metadata": {},
   "outputs": [
    {
     "name": "stdout",
     "output_type": "stream",
     "text": [
      "lhoe\n",
      "spMi\n"
     ]
    }
   ],
   "source": [
    "def remove_duplicates(string):\n",
    "    return ''.join(set(string))\n",
    "print(remove_duplicates(\"hello\"))  \n",
    "print(remove_duplicates(\"Mississippi\")) \n"
   ]
  },
  {
   "attachments": {},
   "cell_type": "markdown",
   "metadata": {},
   "source": [
    "# 46. Implement a function to find the first missing positive number."
   ]
  },
  {
   "cell_type": "code",
   "execution_count": 56,
   "metadata": {},
   "outputs": [
    {
     "name": "stdout",
     "output_type": "stream",
     "text": [
      "5\n",
      "4\n",
      "1\n"
     ]
    }
   ],
   "source": [
    "def find_first_missing_positive(nums):\n",
    "    n = len(nums)\n",
    "\n",
    "    for i in range(n):\n",
    "        while 0 < nums[i] <= n and nums[nums[i] - 1] != nums[i]:\n",
    "            nums[nums[i] - 1], nums[i] = nums[i], nums[nums[i] - 1]\n",
    "\n",
    "    for i in range(n):\n",
    "        if nums[i] != i + 1:\n",
    "            return i + 1\n",
    "\n",
    "        return n + 1\n",
    "print(find_first_missing_positive([3, 4, -1, 1])) \n",
    "print(find_first_missing_positive([1, 2, 0]))  \n",
    "print(find_first_missing_positive([7, 8, 9, 11, 12]))  \n"
   ]
  }
 ],
 "metadata": {
  "kernelspec": {
   "display_name": "Python 3",
   "language": "python",
   "name": "python3"
  },
  "language_info": {
   "codemirror_mode": {
    "name": "ipython",
    "version": 3
   },
   "file_extension": ".py",
   "mimetype": "text/x-python",
   "name": "python",
   "nbconvert_exporter": "python",
   "pygments_lexer": "ipython3",
   "version": "3.9.10"
  },
  "orig_nbformat": 4
 },
 "nbformat": 4,
 "nbformat_minor": 2
}
